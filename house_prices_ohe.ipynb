{
 "cells": [
  {
   "cell_type": "code",
   "execution_count": 1,
   "id": "5a13d7bf-7b65-49b1-b1ca-fe4b3c3e1940",
   "metadata": {},
   "outputs": [],
   "source": [
    "import pandas as pd\n",
    "import numpy as np\n",
    "import matplotlib.pyplot as plt"
   ]
  },
  {
   "cell_type": "code",
   "execution_count": 2,
   "id": "3d56c8ea-a427-498c-9122-d8e1c8756dd8",
   "metadata": {},
   "outputs": [
    {
     "data": {
      "text/html": [
       "<div>\n",
       "<style scoped>\n",
       "    .dataframe tbody tr th:only-of-type {\n",
       "        vertical-align: middle;\n",
       "    }\n",
       "\n",
       "    .dataframe tbody tr th {\n",
       "        vertical-align: top;\n",
       "    }\n",
       "\n",
       "    .dataframe thead th {\n",
       "        text-align: right;\n",
       "    }\n",
       "</style>\n",
       "<table border=\"1\" class=\"dataframe\">\n",
       "  <thead>\n",
       "    <tr style=\"text-align: right;\">\n",
       "      <th></th>\n",
       "      <th>Id</th>\n",
       "      <th>MSSubClass</th>\n",
       "      <th>MSZoning</th>\n",
       "      <th>LotFrontage</th>\n",
       "      <th>LotArea</th>\n",
       "      <th>Street</th>\n",
       "      <th>Alley</th>\n",
       "      <th>LotShape</th>\n",
       "      <th>LandContour</th>\n",
       "      <th>Utilities</th>\n",
       "      <th>...</th>\n",
       "      <th>PoolArea</th>\n",
       "      <th>PoolQC</th>\n",
       "      <th>Fence</th>\n",
       "      <th>MiscFeature</th>\n",
       "      <th>MiscVal</th>\n",
       "      <th>MoSold</th>\n",
       "      <th>YrSold</th>\n",
       "      <th>SaleType</th>\n",
       "      <th>SaleCondition</th>\n",
       "      <th>SalePrice</th>\n",
       "    </tr>\n",
       "  </thead>\n",
       "  <tbody>\n",
       "    <tr>\n",
       "      <th>0</th>\n",
       "      <td>1</td>\n",
       "      <td>60</td>\n",
       "      <td>RL</td>\n",
       "      <td>65.0</td>\n",
       "      <td>8450</td>\n",
       "      <td>Pave</td>\n",
       "      <td>NaN</td>\n",
       "      <td>Reg</td>\n",
       "      <td>Lvl</td>\n",
       "      <td>AllPub</td>\n",
       "      <td>...</td>\n",
       "      <td>0</td>\n",
       "      <td>NaN</td>\n",
       "      <td>NaN</td>\n",
       "      <td>NaN</td>\n",
       "      <td>0</td>\n",
       "      <td>2</td>\n",
       "      <td>2008</td>\n",
       "      <td>WD</td>\n",
       "      <td>Normal</td>\n",
       "      <td>208500</td>\n",
       "    </tr>\n",
       "    <tr>\n",
       "      <th>1</th>\n",
       "      <td>2</td>\n",
       "      <td>20</td>\n",
       "      <td>RL</td>\n",
       "      <td>80.0</td>\n",
       "      <td>9600</td>\n",
       "      <td>Pave</td>\n",
       "      <td>NaN</td>\n",
       "      <td>Reg</td>\n",
       "      <td>Lvl</td>\n",
       "      <td>AllPub</td>\n",
       "      <td>...</td>\n",
       "      <td>0</td>\n",
       "      <td>NaN</td>\n",
       "      <td>NaN</td>\n",
       "      <td>NaN</td>\n",
       "      <td>0</td>\n",
       "      <td>5</td>\n",
       "      <td>2007</td>\n",
       "      <td>WD</td>\n",
       "      <td>Normal</td>\n",
       "      <td>181500</td>\n",
       "    </tr>\n",
       "    <tr>\n",
       "      <th>2</th>\n",
       "      <td>3</td>\n",
       "      <td>60</td>\n",
       "      <td>RL</td>\n",
       "      <td>68.0</td>\n",
       "      <td>11250</td>\n",
       "      <td>Pave</td>\n",
       "      <td>NaN</td>\n",
       "      <td>IR1</td>\n",
       "      <td>Lvl</td>\n",
       "      <td>AllPub</td>\n",
       "      <td>...</td>\n",
       "      <td>0</td>\n",
       "      <td>NaN</td>\n",
       "      <td>NaN</td>\n",
       "      <td>NaN</td>\n",
       "      <td>0</td>\n",
       "      <td>9</td>\n",
       "      <td>2008</td>\n",
       "      <td>WD</td>\n",
       "      <td>Normal</td>\n",
       "      <td>223500</td>\n",
       "    </tr>\n",
       "  </tbody>\n",
       "</table>\n",
       "<p>3 rows × 81 columns</p>\n",
       "</div>"
      ],
      "text/plain": [
       "   Id  MSSubClass MSZoning  LotFrontage  LotArea Street Alley LotShape  \\\n",
       "0   1          60       RL         65.0     8450   Pave   NaN      Reg   \n",
       "1   2          20       RL         80.0     9600   Pave   NaN      Reg   \n",
       "2   3          60       RL         68.0    11250   Pave   NaN      IR1   \n",
       "\n",
       "  LandContour Utilities  ... PoolArea PoolQC Fence MiscFeature MiscVal MoSold  \\\n",
       "0         Lvl    AllPub  ...        0    NaN   NaN         NaN       0      2   \n",
       "1         Lvl    AllPub  ...        0    NaN   NaN         NaN       0      5   \n",
       "2         Lvl    AllPub  ...        0    NaN   NaN         NaN       0      9   \n",
       "\n",
       "  YrSold  SaleType  SaleCondition  SalePrice  \n",
       "0   2008        WD         Normal     208500  \n",
       "1   2007        WD         Normal     181500  \n",
       "2   2008        WD         Normal     223500  \n",
       "\n",
       "[3 rows x 81 columns]"
      ]
     },
     "execution_count": 2,
     "metadata": {},
     "output_type": "execute_result"
    }
   ],
   "source": [
    "data = pd.read_csv('train.csv')\n",
    "data.head(3)"
   ]
  },
  {
   "cell_type": "code",
   "execution_count": 3,
   "id": "24251aa1-9ba4-4deb-9b94-58955102ff48",
   "metadata": {},
   "outputs": [
    {
     "data": {
      "text/plain": [
       "(1460, 81)"
      ]
     },
     "execution_count": 3,
     "metadata": {},
     "output_type": "execute_result"
    }
   ],
   "source": [
    "data.shape"
   ]
  },
  {
   "cell_type": "code",
   "execution_count": 4,
   "id": "d1ed7fb2-7881-4a95-89df-85f2a7fd30fc",
   "metadata": {},
   "outputs": [
    {
     "name": "stdout",
     "output_type": "stream",
     "text": [
      "<class 'pandas.core.frame.DataFrame'>\n",
      "RangeIndex: 1460 entries, 0 to 1459\n",
      "Data columns (total 81 columns):\n",
      " #   Column         Non-Null Count  Dtype  \n",
      "---  ------         --------------  -----  \n",
      " 0   Id             1460 non-null   int64  \n",
      " 1   MSSubClass     1460 non-null   int64  \n",
      " 2   MSZoning       1460 non-null   object \n",
      " 3   LotFrontage    1201 non-null   float64\n",
      " 4   LotArea        1460 non-null   int64  \n",
      " 5   Street         1460 non-null   object \n",
      " 6   Alley          91 non-null     object \n",
      " 7   LotShape       1460 non-null   object \n",
      " 8   LandContour    1460 non-null   object \n",
      " 9   Utilities      1460 non-null   object \n",
      " 10  LotConfig      1460 non-null   object \n",
      " 11  LandSlope      1460 non-null   object \n",
      " 12  Neighborhood   1460 non-null   object \n",
      " 13  Condition1     1460 non-null   object \n",
      " 14  Condition2     1460 non-null   object \n",
      " 15  BldgType       1460 non-null   object \n",
      " 16  HouseStyle     1460 non-null   object \n",
      " 17  OverallQual    1460 non-null   int64  \n",
      " 18  OverallCond    1460 non-null   int64  \n",
      " 19  YearBuilt      1460 non-null   int64  \n",
      " 20  YearRemodAdd   1460 non-null   int64  \n",
      " 21  RoofStyle      1460 non-null   object \n",
      " 22  RoofMatl       1460 non-null   object \n",
      " 23  Exterior1st    1460 non-null   object \n",
      " 24  Exterior2nd    1460 non-null   object \n",
      " 25  MasVnrType     588 non-null    object \n",
      " 26  MasVnrArea     1452 non-null   float64\n",
      " 27  ExterQual      1460 non-null   object \n",
      " 28  ExterCond      1460 non-null   object \n",
      " 29  Foundation     1460 non-null   object \n",
      " 30  BsmtQual       1423 non-null   object \n",
      " 31  BsmtCond       1423 non-null   object \n",
      " 32  BsmtExposure   1422 non-null   object \n",
      " 33  BsmtFinType1   1423 non-null   object \n",
      " 34  BsmtFinSF1     1460 non-null   int64  \n",
      " 35  BsmtFinType2   1422 non-null   object \n",
      " 36  BsmtFinSF2     1460 non-null   int64  \n",
      " 37  BsmtUnfSF      1460 non-null   int64  \n",
      " 38  TotalBsmtSF    1460 non-null   int64  \n",
      " 39  Heating        1460 non-null   object \n",
      " 40  HeatingQC      1460 non-null   object \n",
      " 41  CentralAir     1460 non-null   object \n",
      " 42  Electrical     1459 non-null   object \n",
      " 43  1stFlrSF       1460 non-null   int64  \n",
      " 44  2ndFlrSF       1460 non-null   int64  \n",
      " 45  LowQualFinSF   1460 non-null   int64  \n",
      " 46  GrLivArea      1460 non-null   int64  \n",
      " 47  BsmtFullBath   1460 non-null   int64  \n",
      " 48  BsmtHalfBath   1460 non-null   int64  \n",
      " 49  FullBath       1460 non-null   int64  \n",
      " 50  HalfBath       1460 non-null   int64  \n",
      " 51  BedroomAbvGr   1460 non-null   int64  \n",
      " 52  KitchenAbvGr   1460 non-null   int64  \n",
      " 53  KitchenQual    1460 non-null   object \n",
      " 54  TotRmsAbvGrd   1460 non-null   int64  \n",
      " 55  Functional     1460 non-null   object \n",
      " 56  Fireplaces     1460 non-null   int64  \n",
      " 57  FireplaceQu    770 non-null    object \n",
      " 58  GarageType     1379 non-null   object \n",
      " 59  GarageYrBlt    1379 non-null   float64\n",
      " 60  GarageFinish   1379 non-null   object \n",
      " 61  GarageCars     1460 non-null   int64  \n",
      " 62  GarageArea     1460 non-null   int64  \n",
      " 63  GarageQual     1379 non-null   object \n",
      " 64  GarageCond     1379 non-null   object \n",
      " 65  PavedDrive     1460 non-null   object \n",
      " 66  WoodDeckSF     1460 non-null   int64  \n",
      " 67  OpenPorchSF    1460 non-null   int64  \n",
      " 68  EnclosedPorch  1460 non-null   int64  \n",
      " 69  3SsnPorch      1460 non-null   int64  \n",
      " 70  ScreenPorch    1460 non-null   int64  \n",
      " 71  PoolArea       1460 non-null   int64  \n",
      " 72  PoolQC         7 non-null      object \n",
      " 73  Fence          281 non-null    object \n",
      " 74  MiscFeature    54 non-null     object \n",
      " 75  MiscVal        1460 non-null   int64  \n",
      " 76  MoSold         1460 non-null   int64  \n",
      " 77  YrSold         1460 non-null   int64  \n",
      " 78  SaleType       1460 non-null   object \n",
      " 79  SaleCondition  1460 non-null   object \n",
      " 80  SalePrice      1460 non-null   int64  \n",
      "dtypes: float64(3), int64(35), object(43)\n",
      "memory usage: 924.0+ KB\n"
     ]
    }
   ],
   "source": [
    "data.info()"
   ]
  },
  {
   "cell_type": "code",
   "execution_count": 5,
   "id": "89d6def8-6887-46ec-a9fd-7150bf944305",
   "metadata": {},
   "outputs": [
    {
     "data": {
      "text/plain": [
       "PoolQC          1453\n",
       "MiscFeature     1406\n",
       "Alley           1369\n",
       "Fence           1179\n",
       "MasVnrType       872\n",
       "FireplaceQu      690\n",
       "LotFrontage      259\n",
       "GarageYrBlt       81\n",
       "GarageCond        81\n",
       "GarageType        81\n",
       "GarageFinish      81\n",
       "GarageQual        81\n",
       "BsmtFinType2      38\n",
       "BsmtExposure      38\n",
       "BsmtQual          37\n",
       "BsmtCond          37\n",
       "BsmtFinType1      37\n",
       "MasVnrArea         8\n",
       "Electrical         1\n",
       "Id                 0\n",
       "dtype: int64"
      ]
     },
     "execution_count": 5,
     "metadata": {},
     "output_type": "execute_result"
    }
   ],
   "source": [
    "data.isna().sum().sort_values(ascending=False).head(20)"
   ]
  },
  {
   "cell_type": "markdown",
   "id": "d2637f5a-9c0c-43be-98e8-a57a24c44d44",
   "metadata": {
    "jp-MarkdownHeadingCollapsed": true
   },
   "source": [
    "#### Tratando NA"
   ]
  },
  {
   "cell_type": "code",
   "execution_count": 6,
   "id": "342b9778-e911-4a67-adda-6eaff7f68b60",
   "metadata": {},
   "outputs": [
    {
     "data": {
      "text/plain": [
       "LotFrontage\n",
       "60.0     143\n",
       "70.0      70\n",
       "80.0      69\n",
       "50.0      57\n",
       "75.0      53\n",
       "        ... \n",
       "137.0      1\n",
       "141.0      1\n",
       "38.0       1\n",
       "140.0      1\n",
       "46.0       1\n",
       "Name: count, Length: 110, dtype: int64"
      ]
     },
     "execution_count": 6,
     "metadata": {},
     "output_type": "execute_result"
    }
   ],
   "source": [
    "data.LotFrontage.value_counts()"
   ]
  },
  {
   "cell_type": "code",
   "execution_count": 7,
   "id": "562836ec-fa3f-4c09-9c9a-f36ef7d032f2",
   "metadata": {},
   "outputs": [],
   "source": [
    "data['LotFrontage'] = data.LotFrontage.fillna(data.LotFrontage.mean())"
   ]
  },
  {
   "cell_type": "code",
   "execution_count": 8,
   "id": "40ff0328-752a-4cd1-9640-8a1b863520a2",
   "metadata": {},
   "outputs": [
    {
     "data": {
      "text/plain": [
       "Alley\n",
       "Grvl    50\n",
       "Pave    41\n",
       "Name: count, dtype: int64"
      ]
     },
     "execution_count": 8,
     "metadata": {},
     "output_type": "execute_result"
    }
   ],
   "source": [
    "data.Alley.value_counts()"
   ]
  },
  {
   "cell_type": "code",
   "execution_count": 9,
   "id": "3c5788d7-febf-4e3d-b137-20fb9df4761f",
   "metadata": {},
   "outputs": [],
   "source": [
    "data['Alley'] = data.Alley.fillna('Grvl')"
   ]
  },
  {
   "cell_type": "code",
   "execution_count": 10,
   "id": "a49db19e-7229-4c2b-a62d-f95f69fef65d",
   "metadata": {},
   "outputs": [
    {
     "data": {
      "text/plain": [
       "MasVnrType\n",
       "BrkFace    445\n",
       "Stone      128\n",
       "BrkCmn      15\n",
       "Name: count, dtype: int64"
      ]
     },
     "execution_count": 10,
     "metadata": {},
     "output_type": "execute_result"
    }
   ],
   "source": [
    "data.MasVnrType.value_counts()"
   ]
  },
  {
   "cell_type": "code",
   "execution_count": 11,
   "id": "a830f057-f8df-45ec-a6e8-3553d3a3a4fa",
   "metadata": {},
   "outputs": [],
   "source": [
    "data['MasVnrType'] = data.MasVnrType.fillna('BrkFace')"
   ]
  },
  {
   "cell_type": "code",
   "execution_count": 12,
   "id": "85358668-498b-4a97-a906-d8a706555df0",
   "metadata": {},
   "outputs": [
    {
     "data": {
      "text/plain": [
       "FireplaceQu\n",
       "Gd    380\n",
       "TA    313\n",
       "Fa     33\n",
       "Ex     24\n",
       "Po     20\n",
       "Name: count, dtype: int64"
      ]
     },
     "execution_count": 12,
     "metadata": {},
     "output_type": "execute_result"
    }
   ],
   "source": [
    "data.FireplaceQu.value_counts()"
   ]
  },
  {
   "cell_type": "code",
   "execution_count": 13,
   "id": "b7628425-6dba-4b7a-bf7e-c92e04d127a2",
   "metadata": {},
   "outputs": [],
   "source": [
    "data['FireplaceQu'] = data.FireplaceQu.fillna('Gd')"
   ]
  },
  {
   "cell_type": "code",
   "execution_count": 14,
   "id": "29cb55ea-b143-408f-a512-eb0ff6d29375",
   "metadata": {},
   "outputs": [
    {
     "data": {
      "text/plain": [
       "PoolQC\n",
       "Gd    3\n",
       "Ex    2\n",
       "Fa    2\n",
       "Name: count, dtype: int64"
      ]
     },
     "execution_count": 14,
     "metadata": {},
     "output_type": "execute_result"
    }
   ],
   "source": [
    "data.PoolQC.value_counts()"
   ]
  },
  {
   "cell_type": "code",
   "execution_count": 15,
   "id": "5449ffb7-4195-4c34-a927-6cf09bb688d9",
   "metadata": {},
   "outputs": [],
   "source": [
    "data['PoolQC'] = data.PoolQC.fillna('Gd')"
   ]
  },
  {
   "cell_type": "code",
   "execution_count": 16,
   "id": "124dad26-00d1-47c4-8f2a-b5f2fcf90669",
   "metadata": {},
   "outputs": [
    {
     "data": {
      "text/plain": [
       "Fence\n",
       "MnPrv    157\n",
       "GdPrv     59\n",
       "GdWo      54\n",
       "MnWw      11\n",
       "Name: count, dtype: int64"
      ]
     },
     "execution_count": 16,
     "metadata": {},
     "output_type": "execute_result"
    }
   ],
   "source": [
    "data.Fence.value_counts()"
   ]
  },
  {
   "cell_type": "code",
   "execution_count": 17,
   "id": "2792a2b6-3875-4f6e-aad7-fe650ebf57ff",
   "metadata": {},
   "outputs": [],
   "source": [
    "data['Fence'] = data.Fence.fillna('MnPrv')"
   ]
  },
  {
   "cell_type": "code",
   "execution_count": 18,
   "id": "02725a47-c758-4877-8e97-448452ce08f2",
   "metadata": {},
   "outputs": [
    {
     "data": {
      "text/plain": [
       "MiscFeature\n",
       "Shed    49\n",
       "Gar2     2\n",
       "Othr     2\n",
       "TenC     1\n",
       "Name: count, dtype: int64"
      ]
     },
     "execution_count": 18,
     "metadata": {},
     "output_type": "execute_result"
    }
   ],
   "source": [
    "data.MiscFeature.value_counts()"
   ]
  },
  {
   "cell_type": "code",
   "execution_count": 19,
   "id": "b9a1a2c5-560d-4fda-9e26-2e031f44b08b",
   "metadata": {},
   "outputs": [],
   "source": [
    "data['MiscFeature'] = data.MiscFeature.fillna('Shed')"
   ]
  },
  {
   "cell_type": "code",
   "execution_count": 20,
   "id": "b3cdda8e-7fe9-4818-aaf1-ff5e375ed10c",
   "metadata": {},
   "outputs": [
    {
     "data": {
      "text/plain": [
       "Electrical\n",
       "SBrkr    1334\n",
       "FuseA      94\n",
       "FuseF      27\n",
       "FuseP       3\n",
       "Mix         1\n",
       "Name: count, dtype: int64"
      ]
     },
     "execution_count": 20,
     "metadata": {},
     "output_type": "execute_result"
    }
   ],
   "source": [
    "data.Electrical.value_counts()"
   ]
  },
  {
   "cell_type": "code",
   "execution_count": 21,
   "id": "da767e4e-55cd-4957-8225-e0607b578c3e",
   "metadata": {},
   "outputs": [],
   "source": [
    "data['Electrical'] = data.Electrical.fillna('SBrkr')"
   ]
  },
  {
   "cell_type": "code",
   "execution_count": 22,
   "id": "86f4cac1-44a8-43c3-90f5-e3f48a2b3115",
   "metadata": {},
   "outputs": [],
   "source": [
    "data['MasVnrArea'] = data.MasVnrArea.fillna(data['MasVnrArea'].mean())"
   ]
  },
  {
   "cell_type": "code",
   "execution_count": 23,
   "id": "6f713c42-ab5a-4fca-815b-7e92fb0bafbb",
   "metadata": {
    "scrolled": true
   },
   "outputs": [
    {
     "data": {
      "text/plain": [
       "BsmtQual\n",
       "TA    649\n",
       "Gd    618\n",
       "Ex    121\n",
       "Fa     35\n",
       "Name: count, dtype: int64"
      ]
     },
     "execution_count": 23,
     "metadata": {},
     "output_type": "execute_result"
    }
   ],
   "source": [
    "data.BsmtQual.value_counts()"
   ]
  },
  {
   "cell_type": "code",
   "execution_count": 24,
   "id": "17678dd5-9ea7-4e2c-92b9-205ebbaad259",
   "metadata": {},
   "outputs": [],
   "source": [
    "data['BsmtQual'] = data.BsmtQual.fillna('TA')"
   ]
  },
  {
   "cell_type": "code",
   "execution_count": 25,
   "id": "d32f2a98-5718-4bbc-80f0-8f997d580185",
   "metadata": {},
   "outputs": [
    {
     "data": {
      "text/plain": [
       "BsmtCond\n",
       "TA    1311\n",
       "Gd      65\n",
       "Fa      45\n",
       "Po       2\n",
       "Name: count, dtype: int64"
      ]
     },
     "execution_count": 25,
     "metadata": {},
     "output_type": "execute_result"
    }
   ],
   "source": [
    "data.BsmtCond.value_counts()"
   ]
  },
  {
   "cell_type": "code",
   "execution_count": 26,
   "id": "7f94b0e8-42e1-455c-998a-210e9026e574",
   "metadata": {},
   "outputs": [],
   "source": [
    "data['BsmtCond'] = data.BsmtCond.fillna('TA')"
   ]
  },
  {
   "cell_type": "code",
   "execution_count": 27,
   "id": "f64920ef-3187-4683-90a9-fde74743b437",
   "metadata": {},
   "outputs": [
    {
     "data": {
      "text/plain": [
       "BsmtFinType1\n",
       "Unf    430\n",
       "GLQ    418\n",
       "ALQ    220\n",
       "BLQ    148\n",
       "Rec    133\n",
       "LwQ     74\n",
       "Name: count, dtype: int64"
      ]
     },
     "execution_count": 27,
     "metadata": {},
     "output_type": "execute_result"
    }
   ],
   "source": [
    "data.BsmtFinType1.value_counts()"
   ]
  },
  {
   "cell_type": "code",
   "execution_count": 28,
   "id": "6fbd1d39-5597-438c-9ed5-90f310d56fb3",
   "metadata": {},
   "outputs": [],
   "source": [
    "data['BsmtFinType1'] = data.BsmtFinType1.fillna('Unf')"
   ]
  },
  {
   "cell_type": "code",
   "execution_count": 29,
   "id": "0ded41ce-31c6-4c23-8f6c-0258ad7b2efa",
   "metadata": {},
   "outputs": [
    {
     "data": {
      "text/plain": [
       "BsmtFinType2\n",
       "Unf    1256\n",
       "Rec      54\n",
       "LwQ      46\n",
       "BLQ      33\n",
       "ALQ      19\n",
       "GLQ      14\n",
       "Name: count, dtype: int64"
      ]
     },
     "execution_count": 29,
     "metadata": {},
     "output_type": "execute_result"
    }
   ],
   "source": [
    "data.BsmtFinType2.value_counts()"
   ]
  },
  {
   "cell_type": "code",
   "execution_count": 30,
   "id": "529dcab2-ac1b-49e3-ad04-41dbe7cad845",
   "metadata": {},
   "outputs": [],
   "source": [
    "data['BsmtFinType2'] = data.BsmtFinType2.fillna('Unf')"
   ]
  },
  {
   "cell_type": "code",
   "execution_count": 31,
   "id": "0789c3aa-6ec5-4bfa-ab40-40d815bde509",
   "metadata": {},
   "outputs": [
    {
     "data": {
      "text/plain": [
       "BsmtExposure\n",
       "No    953\n",
       "Av    221\n",
       "Gd    134\n",
       "Mn    114\n",
       "Name: count, dtype: int64"
      ]
     },
     "execution_count": 31,
     "metadata": {},
     "output_type": "execute_result"
    }
   ],
   "source": [
    "data.BsmtExposure.value_counts()"
   ]
  },
  {
   "cell_type": "code",
   "execution_count": 32,
   "id": "88f376bf-524b-4e36-9564-bb1c68c94ee1",
   "metadata": {},
   "outputs": [],
   "source": [
    "data['BsmtExposure'] = data.BsmtExposure.fillna('No')"
   ]
  },
  {
   "cell_type": "code",
   "execution_count": 33,
   "id": "da8a0ab2-c566-46c8-9ee2-03509f0ecc42",
   "metadata": {},
   "outputs": [
    {
     "data": {
      "text/plain": [
       "GarageFinish\n",
       "Unf    605\n",
       "RFn    422\n",
       "Fin    352\n",
       "Name: count, dtype: int64"
      ]
     },
     "execution_count": 33,
     "metadata": {},
     "output_type": "execute_result"
    }
   ],
   "source": [
    "data.GarageFinish.value_counts()"
   ]
  },
  {
   "cell_type": "code",
   "execution_count": 34,
   "id": "4ba7a83b-45eb-4cb3-97e5-835953119756",
   "metadata": {},
   "outputs": [],
   "source": [
    "data['GarageFinish'] = data.GarageFinish.fillna('Unf')"
   ]
  },
  {
   "cell_type": "code",
   "execution_count": 35,
   "id": "ac1f0a90-ad8c-4b11-8631-1c6378111e84",
   "metadata": {},
   "outputs": [
    {
     "data": {
      "text/plain": [
       "GarageType\n",
       "Attchd     870\n",
       "Detchd     387\n",
       "BuiltIn     88\n",
       "Basment     19\n",
       "CarPort      9\n",
       "2Types       6\n",
       "Name: count, dtype: int64"
      ]
     },
     "execution_count": 35,
     "metadata": {},
     "output_type": "execute_result"
    }
   ],
   "source": [
    "data.GarageType.value_counts()"
   ]
  },
  {
   "cell_type": "code",
   "execution_count": 36,
   "id": "130587e4-3818-4c66-9129-e6f09ad71370",
   "metadata": {},
   "outputs": [],
   "source": [
    "data['GarageType'] = data.GarageType.fillna('Attchd')  "
   ]
  },
  {
   "cell_type": "code",
   "execution_count": 37,
   "id": "31bec05d-6cf7-4f85-a347-ba6e46026be6",
   "metadata": {},
   "outputs": [
    {
     "data": {
      "text/plain": [
       "GarageQual\n",
       "TA    1311\n",
       "Fa      48\n",
       "Gd      14\n",
       "Ex       3\n",
       "Po       3\n",
       "Name: count, dtype: int64"
      ]
     },
     "execution_count": 37,
     "metadata": {},
     "output_type": "execute_result"
    }
   ],
   "source": [
    "data.GarageQual.value_counts()"
   ]
  },
  {
   "cell_type": "code",
   "execution_count": 38,
   "id": "e122c8f2-717a-4d82-942b-bcec4b1a6b7f",
   "metadata": {},
   "outputs": [],
   "source": [
    "data['GarageQual'] = data.GarageQual.fillna('TA')"
   ]
  },
  {
   "cell_type": "code",
   "execution_count": 39,
   "id": "e1c52d8c-a242-45cc-892e-d4fa9f89536a",
   "metadata": {},
   "outputs": [
    {
     "data": {
      "text/plain": [
       "GarageCond\n",
       "TA    1326\n",
       "Fa      35\n",
       "Gd       9\n",
       "Po       7\n",
       "Ex       2\n",
       "Name: count, dtype: int64"
      ]
     },
     "execution_count": 39,
     "metadata": {},
     "output_type": "execute_result"
    }
   ],
   "source": [
    "data.GarageCond.value_counts() "
   ]
  },
  {
   "cell_type": "code",
   "execution_count": 40,
   "id": "d5b91668-2cc4-4af6-9673-990a42335fd8",
   "metadata": {},
   "outputs": [],
   "source": [
    "data['GarageCond'] = data.GarageCond.fillna('TA')"
   ]
  },
  {
   "cell_type": "code",
   "execution_count": 41,
   "id": "1147a58c-8eb0-4b37-95aa-0074c2d879b8",
   "metadata": {},
   "outputs": [
    {
     "data": {
      "text/plain": [
       "GarageYrBlt\n",
       "2005.0    65\n",
       "2006.0    59\n",
       "2004.0    53\n",
       "2003.0    50\n",
       "2007.0    49\n",
       "          ..\n",
       "1927.0     1\n",
       "1900.0     1\n",
       "1906.0     1\n",
       "1908.0     1\n",
       "1933.0     1\n",
       "Name: count, Length: 97, dtype: int64"
      ]
     },
     "execution_count": 41,
     "metadata": {},
     "output_type": "execute_result"
    }
   ],
   "source": [
    "data.GarageYrBlt.value_counts()"
   ]
  },
  {
   "cell_type": "code",
   "execution_count": 42,
   "id": "4d88d52c-a750-4b65-85c2-72f9af56b707",
   "metadata": {},
   "outputs": [],
   "source": [
    "data['GarageYrBlt'] = data.GarageYrBlt.fillna(2005.0)"
   ]
  },
  {
   "cell_type": "markdown",
   "id": "7cbb8905-c082-492c-950b-2e8f2e0b3be6",
   "metadata": {
    "jp-MarkdownHeadingCollapsed": true
   },
   "source": [
    "#### One-Hot Encoder"
   ]
  },
  {
   "cell_type": "code",
   "execution_count": 43,
   "id": "e36ca971-6882-4c4f-beb8-c5b7c6a9adf5",
   "metadata": {},
   "outputs": [],
   "source": [
    "from sklearn.preprocessing import OneHotEncoder"
   ]
  },
  {
   "cell_type": "code",
   "execution_count": 44,
   "id": "59994c60-2449-4470-8854-d0e0219841d3",
   "metadata": {},
   "outputs": [
    {
     "data": {
      "text/plain": [
       "Index(['MSZoning', 'Street', 'Alley', 'LotShape', 'LandContour', 'Utilities',\n",
       "       'LotConfig', 'LandSlope', 'Neighborhood', 'Condition1', 'Condition2',\n",
       "       'BldgType', 'HouseStyle', 'RoofStyle', 'RoofMatl', 'Exterior1st',\n",
       "       'Exterior2nd', 'MasVnrType', 'ExterQual', 'ExterCond', 'Foundation',\n",
       "       'BsmtQual', 'BsmtCond', 'BsmtExposure', 'BsmtFinType1', 'BsmtFinType2',\n",
       "       'Heating', 'HeatingQC', 'CentralAir', 'Electrical', 'KitchenQual',\n",
       "       'Functional', 'FireplaceQu', 'GarageType', 'GarageFinish', 'GarageQual',\n",
       "       'GarageCond', 'PavedDrive', 'PoolQC', 'Fence', 'MiscFeature',\n",
       "       'SaleType', 'SaleCondition'],\n",
       "      dtype='object')"
      ]
     },
     "execution_count": 44,
     "metadata": {},
     "output_type": "execute_result"
    }
   ],
   "source": [
    "categorical_cols = data.select_dtypes(include=['object']).columns\n",
    "categorical_cols"
   ]
  },
  {
   "cell_type": "code",
   "execution_count": 45,
   "id": "88384ac0-40bf-4348-bc2b-be05f98e6dc1",
   "metadata": {},
   "outputs": [
    {
     "data": {
      "text/html": [
       "<div>\n",
       "<style scoped>\n",
       "    .dataframe tbody tr th:only-of-type {\n",
       "        vertical-align: middle;\n",
       "    }\n",
       "\n",
       "    .dataframe tbody tr th {\n",
       "        vertical-align: top;\n",
       "    }\n",
       "\n",
       "    .dataframe thead th {\n",
       "        text-align: right;\n",
       "    }\n",
       "</style>\n",
       "<table border=\"1\" class=\"dataframe\">\n",
       "  <thead>\n",
       "    <tr style=\"text-align: right;\">\n",
       "      <th></th>\n",
       "      <th>Id</th>\n",
       "      <th>MSSubClass</th>\n",
       "      <th>LotFrontage</th>\n",
       "      <th>LotArea</th>\n",
       "      <th>OverallQual</th>\n",
       "      <th>OverallCond</th>\n",
       "      <th>YearBuilt</th>\n",
       "      <th>YearRemodAdd</th>\n",
       "      <th>MasVnrArea</th>\n",
       "      <th>BsmtFinSF1</th>\n",
       "      <th>...</th>\n",
       "      <th>SaleType_ConLw</th>\n",
       "      <th>SaleType_New</th>\n",
       "      <th>SaleType_Oth</th>\n",
       "      <th>SaleType_WD</th>\n",
       "      <th>SaleCondition_Abnorml</th>\n",
       "      <th>SaleCondition_AdjLand</th>\n",
       "      <th>SaleCondition_Alloca</th>\n",
       "      <th>SaleCondition_Family</th>\n",
       "      <th>SaleCondition_Normal</th>\n",
       "      <th>SaleCondition_Partial</th>\n",
       "    </tr>\n",
       "  </thead>\n",
       "  <tbody>\n",
       "    <tr>\n",
       "      <th>0</th>\n",
       "      <td>1</td>\n",
       "      <td>60</td>\n",
       "      <td>65.0</td>\n",
       "      <td>8450</td>\n",
       "      <td>7</td>\n",
       "      <td>5</td>\n",
       "      <td>2003</td>\n",
       "      <td>2003</td>\n",
       "      <td>196.0</td>\n",
       "      <td>706</td>\n",
       "      <td>...</td>\n",
       "      <td>0.0</td>\n",
       "      <td>0.0</td>\n",
       "      <td>0.0</td>\n",
       "      <td>1.0</td>\n",
       "      <td>0.0</td>\n",
       "      <td>0.0</td>\n",
       "      <td>0.0</td>\n",
       "      <td>0.0</td>\n",
       "      <td>1.0</td>\n",
       "      <td>0.0</td>\n",
       "    </tr>\n",
       "    <tr>\n",
       "      <th>1</th>\n",
       "      <td>2</td>\n",
       "      <td>20</td>\n",
       "      <td>80.0</td>\n",
       "      <td>9600</td>\n",
       "      <td>6</td>\n",
       "      <td>8</td>\n",
       "      <td>1976</td>\n",
       "      <td>1976</td>\n",
       "      <td>0.0</td>\n",
       "      <td>978</td>\n",
       "      <td>...</td>\n",
       "      <td>0.0</td>\n",
       "      <td>0.0</td>\n",
       "      <td>0.0</td>\n",
       "      <td>1.0</td>\n",
       "      <td>0.0</td>\n",
       "      <td>0.0</td>\n",
       "      <td>0.0</td>\n",
       "      <td>0.0</td>\n",
       "      <td>1.0</td>\n",
       "      <td>0.0</td>\n",
       "    </tr>\n",
       "    <tr>\n",
       "      <th>2</th>\n",
       "      <td>3</td>\n",
       "      <td>60</td>\n",
       "      <td>68.0</td>\n",
       "      <td>11250</td>\n",
       "      <td>7</td>\n",
       "      <td>5</td>\n",
       "      <td>2001</td>\n",
       "      <td>2002</td>\n",
       "      <td>162.0</td>\n",
       "      <td>486</td>\n",
       "      <td>...</td>\n",
       "      <td>0.0</td>\n",
       "      <td>0.0</td>\n",
       "      <td>0.0</td>\n",
       "      <td>1.0</td>\n",
       "      <td>0.0</td>\n",
       "      <td>0.0</td>\n",
       "      <td>0.0</td>\n",
       "      <td>0.0</td>\n",
       "      <td>1.0</td>\n",
       "      <td>0.0</td>\n",
       "    </tr>\n",
       "  </tbody>\n",
       "</table>\n",
       "<p>3 rows × 289 columns</p>\n",
       "</div>"
      ],
      "text/plain": [
       "   Id  MSSubClass  LotFrontage  LotArea  OverallQual  OverallCond  YearBuilt  \\\n",
       "0   1          60         65.0     8450            7            5       2003   \n",
       "1   2          20         80.0     9600            6            8       1976   \n",
       "2   3          60         68.0    11250            7            5       2001   \n",
       "\n",
       "   YearRemodAdd  MasVnrArea  BsmtFinSF1  ...  SaleType_ConLw  SaleType_New  \\\n",
       "0          2003       196.0         706  ...             0.0           0.0   \n",
       "1          1976         0.0         978  ...             0.0           0.0   \n",
       "2          2002       162.0         486  ...             0.0           0.0   \n",
       "\n",
       "   SaleType_Oth  SaleType_WD  SaleCondition_Abnorml  SaleCondition_AdjLand  \\\n",
       "0           0.0          1.0                    0.0                    0.0   \n",
       "1           0.0          1.0                    0.0                    0.0   \n",
       "2           0.0          1.0                    0.0                    0.0   \n",
       "\n",
       "   SaleCondition_Alloca  SaleCondition_Family  SaleCondition_Normal  \\\n",
       "0                   0.0                   0.0                   1.0   \n",
       "1                   0.0                   0.0                   1.0   \n",
       "2                   0.0                   0.0                   1.0   \n",
       "\n",
       "   SaleCondition_Partial  \n",
       "0                    0.0  \n",
       "1                    0.0  \n",
       "2                    0.0  \n",
       "\n",
       "[3 rows x 289 columns]"
      ]
     },
     "execution_count": 45,
     "metadata": {},
     "output_type": "execute_result"
    }
   ],
   "source": [
    "oh_encoder = OneHotEncoder(sparse_output=False)\n",
    "encoded = oh_encoder.fit_transform(data[categorical_cols])\n",
    "encoded_df = pd.DataFrame(encoded, columns=oh_encoder.get_feature_names_out(categorical_cols))\n",
    "data = pd.concat([data.drop(categorical_cols, axis=1), encoded_df], axis=1)\n",
    "data.head(3)"
   ]
  },
  {
   "cell_type": "markdown",
   "id": "768e5a14-eef1-405f-a699-3de05dd2fb15",
   "metadata": {},
   "source": [
    "#### Modelo"
   ]
  },
  {
   "cell_type": "code",
   "execution_count": 46,
   "id": "95977cbc-c8a7-4da1-814a-2171e384275f",
   "metadata": {},
   "outputs": [],
   "source": [
    "from sklearn.model_selection import train_test_split"
   ]
  },
  {
   "cell_type": "code",
   "execution_count": 47,
   "id": "4c1eacd6-c4b8-4017-b81f-8c5aa6ab62a4",
   "metadata": {},
   "outputs": [],
   "source": [
    "X = data.drop('SalePrice', axis=1)\n",
    "y = data['SalePrice']"
   ]
  },
  {
   "cell_type": "code",
   "execution_count": 48,
   "id": "4e2508cc-2545-4009-b793-2d0fb6d3a152",
   "metadata": {},
   "outputs": [],
   "source": [
    "X_train, X_test, y_train, y_test = train_test_split(X, y, test_size=0.3, random_state=1)"
   ]
  },
  {
   "cell_type": "code",
   "execution_count": 49,
   "id": "385791b2-5ad0-4d85-b8d9-b4592e3e6219",
   "metadata": {},
   "outputs": [],
   "source": [
    "from sklearn.linear_model import LinearRegression\n",
    "ln_reg = LinearRegression().fit(X_train, y_train)\n",
    "lr_predict = ln_reg.predict(X_test)"
   ]
  },
  {
   "cell_type": "code",
   "execution_count": 50,
   "id": "7aff147c-4774-425f-89e5-48c12018ecb0",
   "metadata": {},
   "outputs": [],
   "source": [
    "from sklearn.tree import DecisionTreeRegressor\n",
    "dt_reg = DecisionTreeRegressor(random_state=1).fit(X_train, y_train)\n",
    "dtr_predict = dt_reg.predict(X_test)"
   ]
  },
  {
   "cell_type": "code",
   "execution_count": 51,
   "id": "cfb1bcff-45c6-4bdd-aab2-288e601a6c74",
   "metadata": {},
   "outputs": [],
   "source": [
    "from sklearn.neighbors import KNeighborsRegressor\n",
    "knn_reg = KNeighborsRegressor(n_neighbors=3).fit(X_train, y_train)\n",
    "knr_predict = knn_reg.predict(X_test)"
   ]
  },
  {
   "cell_type": "code",
   "execution_count": 215,
   "id": "0f9ebaab-c9d6-4d2a-9841-0fe26c8fa3fa",
   "metadata": {},
   "outputs": [],
   "source": [
    "from sklearn.ensemble import GradientBoostingRegressor\n",
    "gb_reg = GradientBoostingRegressor(n_estimators=1000, min_samples_leaf=2, init='zero', random_state=1).fit(X_train, y_train)\n",
    "gbr_predict = gb_reg.predict(X_test)"
   ]
  },
  {
   "cell_type": "code",
   "execution_count": 53,
   "id": "3754b538-ce79-4da8-a0e7-018f8fa46301",
   "metadata": {},
   "outputs": [],
   "source": [
    "from sklearn.linear_model import Ridge\n",
    "r_reg = Ridge(alpha=31.98).fit(X_train, y_train)\n",
    "ridge_predict = r_reg.predict(X_test)"
   ]
  },
  {
   "cell_type": "code",
   "execution_count": 54,
   "id": "23d6f6b3-a502-4506-beb0-b75c7e4ee1f4",
   "metadata": {},
   "outputs": [],
   "source": [
    "import xgboost as xgb\n",
    "xg_reg = xgb.XGBRegressor(random_state=1).fit(X_train, y_train)\n",
    "xgr_predict = xg_reg.predict(X_test)"
   ]
  },
  {
   "cell_type": "code",
   "execution_count": 55,
   "id": "71ce3274-f9f4-4168-9b56-fd76be6c0c23",
   "metadata": {},
   "outputs": [],
   "source": [
    "from sklearn.metrics import\tmean_absolute_error, mean_squared_error"
   ]
  },
  {
   "cell_type": "code",
   "execution_count": 56,
   "id": "2bd7e40a-8b95-4ddf-8109-86e9f2013dc3",
   "metadata": {},
   "outputs": [
    {
     "name": "stdout",
     "output_type": "stream",
     "text": [
      "Linear Regression\n",
      "18766.0412377688\n",
      "887796280.3948125\n"
     ]
    }
   ],
   "source": [
    "print('Linear Regression')\n",
    "print(mean_absolute_error(y_test,lr_predict))\n",
    "print(mean_squared_error(y_test,lr_predict))"
   ]
  },
  {
   "cell_type": "code",
   "execution_count": 57,
   "id": "5f041ca9-6682-47d8-b471-38901879bc4b",
   "metadata": {},
   "outputs": [
    {
     "name": "stdout",
     "output_type": "stream",
     "text": [
      "Decision Tree Regression\n",
      "25070.15068493151\n",
      "1613154819.2465754\n"
     ]
    }
   ],
   "source": [
    "print('Decision Tree Regression')\n",
    "print(mean_absolute_error(y_test,dtr_predict))\n",
    "print(mean_squared_error(y_test,dtr_predict))"
   ]
  },
  {
   "cell_type": "code",
   "execution_count": 58,
   "id": "f267abe0-e9e2-4457-b15c-802b6d1eb8f4",
   "metadata": {},
   "outputs": [
    {
     "name": "stdout",
     "output_type": "stream",
     "text": [
      "Knn Regression\n",
      "33462.57534246575\n",
      "2885438178.9492645\n"
     ]
    }
   ],
   "source": [
    "print('Knn Regression')\n",
    "print(mean_absolute_error(y_test,knr_predict))\n",
    "print(mean_squared_error(y_test,knr_predict))"
   ]
  },
  {
   "cell_type": "code",
   "execution_count": 216,
   "id": "4844d314-bfd9-4d1e-92a8-1e42234fab1c",
   "metadata": {
    "scrolled": true
   },
   "outputs": [
    {
     "name": "stdout",
     "output_type": "stream",
     "text": [
      "Gradient Boosting Regression\n",
      "15059.368960404969\n",
      "514183509.34724295\n"
     ]
    }
   ],
   "source": [
    "print('Gradient Boosting Regression')\n",
    "print(mean_absolute_error(y_test,gbr_predict))\n",
    "print(mean_squared_error(y_test,gbr_predict))"
   ]
  },
  {
   "cell_type": "code",
   "execution_count": 60,
   "id": "39818aa9-281b-4d16-8fa2-2a6e57b1f09c",
   "metadata": {},
   "outputs": [
    {
     "name": "stdout",
     "output_type": "stream",
     "text": [
      "Ridge Regression\n",
      "18260.898597740415\n",
      "908567847.9612205\n"
     ]
    }
   ],
   "source": [
    "print('Ridge Regression')\n",
    "print(mean_absolute_error(y_test,ridge_predict))\n",
    "print(mean_squared_error(y_test,ridge_predict))"
   ]
  },
  {
   "cell_type": "code",
   "execution_count": 61,
   "id": "275fc287-d325-415a-8381-299d97032c1e",
   "metadata": {},
   "outputs": [
    {
     "name": "stdout",
     "output_type": "stream",
     "text": [
      "XGBoost Regression\n",
      "17229.7739904395\n",
      "993235855.1434071\n"
     ]
    }
   ],
   "source": [
    "print('XGBoost Regression')\n",
    "print(mean_absolute_error(y_test,xgr_predict))\n",
    "print(mean_squared_error(y_test,xgr_predict))"
   ]
  },
  {
   "cell_type": "code",
   "execution_count": 62,
   "id": "66708b0d-13df-4a7a-b1a3-77745ceba9a9",
   "metadata": {},
   "outputs": [],
   "source": [
    "import matplotlib.pyplot as plt"
   ]
  },
  {
   "cell_type": "code",
   "execution_count": 217,
   "id": "f5ebee38-5fd7-4b89-851e-acc5e335f0b3",
   "metadata": {},
   "outputs": [
    {
     "data": {
      "image/png": "[encoded data removed]",
      "text/plain": [
       "<Figure size 1500x1000 with 6 Axes>"
      ]
     },
     "metadata": {},
     "output_type": "display_data"
    }
   ],
   "source": [
    "fig, ax = plt.subplots(2,3, figsize=(15, 10))\n",
    "\n",
    "ax[0,0].scatter(y_test/100000, lr_predict/100000)\n",
    "ax[0,0].plot([0,700000],[0,700000],'--r')\n",
    "ax[0,1].scatter(y_test/100000,dtr_predict/100000)\n",
    "ax[0,1].plot([0,700000],[0,700000],'--r')\n",
    "ax[0,2].scatter(y_test/100000, knr_predict/100000)\n",
    "ax[0,2].plot([0,700000],[0,700000],'--r')\n",
    "ax[1,0].scatter(y_test/100000, gbr_predict/100000)\n",
    "ax[1,0].plot([0,700000],[0,700000],'--r')\n",
    "ax[1,1].scatter(y_test/100000, xgr_predict/100000)\n",
    "ax[1,1].plot([0,700000],[0,700000],'--r')\n",
    "ax[1,2].scatter(y_test/100000, ridge_predict/100000)\n",
    "ax[1,2].plot([0,700000],[0,700000],'--r')\n",
    "\n",
    "ax[0,0].set(xlim=(0,7), ylim=(0,7))\n",
    "ax[0,0].set_title('Logistic regression')\n",
    "ax[0,0].set_xlabel('Real')\n",
    "ax[0,0].set_ylabel('Previsão')\n",
    "ax[0,1].set(xlim=(0,7), ylim=(0,7))\n",
    "ax[0,1].set_title('Decision Tree Regression')\n",
    "ax[0,1].set_xlabel('Real')\n",
    "ax[0,1].set_ylabel('Previsão')\n",
    "ax[0,2].set(xlim=(0,7), ylim=(0,7))\n",
    "ax[0,2].set_title('Knn Regression')\n",
    "ax[0,2].set_xlabel('Real')\n",
    "ax[0,2].set_ylabel('Previsão')\n",
    "ax[1,0].set(xlim=(0,7), ylim=(0,7))\n",
    "ax[1,0].set_title('Gradient Boosting Regression')\n",
    "ax[1,0].set_xlabel('Real')\n",
    "ax[1,0].set_ylabel('Previsão')\n",
    "ax[1,1].set(xlim=(0,7), ylim=(0,7))\n",
    "ax[1,1].set_title('XGBoost Regression')\n",
    "ax[1,1].set_xlabel('Real')\n",
    "ax[1,1].set_ylabel('Previsão')\n",
    "ax[1,2].set(xlim=(0,7), ylim=(0,7))\n",
    "ax[1,2].set_title('Ridge Regression')\n",
    "ax[1,2].set_xlabel('Real')\n",
    "ax[1,2].set_ylabel('Previsão')\n",
    "\n",
    "plt.show()"
   ]
  },
  {
   "cell_type": "markdown",
   "id": "df3802ea-0543-44da-b595-5b985928b08e",
   "metadata": {},
   "source": [
    "#### Rede neural"
   ]
  },
  {
   "cell_type": "code",
   "execution_count": 139,
   "id": "9991a2ea-1fdb-48a7-a749-abe97143d7d7",
   "metadata": {},
   "outputs": [
    {
     "name": "stdout",
     "output_type": "stream",
     "text": [
      "18588.124569484364\n",
      "856114899.5452633\n"
     ]
    }
   ],
   "source": [
    "from sklearn.neural_network import MLPRegressor\n",
    "from sklearn.preprocessing import StandardScaler\n",
    "\n",
    "scaler = StandardScaler()\n",
    "X_train_scaled = scaler.fit_transform(X_train)\n",
    "X_test_scaled = scaler.transform(X_test)\n",
    "\n",
    "model = MLPRegressor(hidden_layer_sizes=(10000,), activation='identity', solver='lbfgs', max_iter=10000, random_state=1)\n",
    "model.fit(X_train_scaled, y_train)\n",
    "\n",
    "predictions = model.predict(X_test_scaled)\n",
    "print(mean_absolute_error(y_test,predictions))\n",
    "print(mean_squared_error(y_test,predictions))"
   ]
  },
  {
   "cell_type": "code",
   "execution_count": 140,
   "id": "0ef36634-6bc4-4b26-a526-f8019a18a68e",
   "metadata": {},
   "outputs": [
    {
     "data": {
      "image/png": "[encoded data removed]",
      "text/plain": [
       "<Figure size 640x480 with 1 Axes>"
      ]
     },
     "metadata": {},
     "output_type": "display_data"
    }
   ],
   "source": [
    "plt.scatter(y_test/100000, predictions/100000)\n",
    "plt.plot([0,7],[0,7],'--r')\n",
    "plt.show()"
   ]
  },
  {
   "cell_type": "markdown",
   "id": "08f33080-2d49-4810-8c22-6ca0154ce296",
   "metadata": {},
   "source": [
    "### Base teste"
   ]
  },
  {
   "cell_type": "code",
   "execution_count": 66,
   "id": "7b4da065-df12-49a8-b563-8e3929d4555c",
   "metadata": {},
   "outputs": [
    {
     "data": {
      "text/html": [
       "<div>\n",
       "<style scoped>\n",
       "    .dataframe tbody tr th:only-of-type {\n",
       "        vertical-align: middle;\n",
       "    }\n",
       "\n",
       "    .dataframe tbody tr th {\n",
       "        vertical-align: top;\n",
       "    }\n",
       "\n",
       "    .dataframe thead th {\n",
       "        text-align: right;\n",
       "    }\n",
       "</style>\n",
       "<table border=\"1\" class=\"dataframe\">\n",
       "  <thead>\n",
       "    <tr style=\"text-align: right;\">\n",
       "      <th></th>\n",
       "      <th>Id</th>\n",
       "      <th>MSSubClass</th>\n",
       "      <th>MSZoning</th>\n",
       "      <th>LotFrontage</th>\n",
       "      <th>LotArea</th>\n",
       "      <th>Street</th>\n",
       "      <th>Alley</th>\n",
       "      <th>LotShape</th>\n",
       "      <th>LandContour</th>\n",
       "      <th>Utilities</th>\n",
       "      <th>...</th>\n",
       "      <th>ScreenPorch</th>\n",
       "      <th>PoolArea</th>\n",
       "      <th>PoolQC</th>\n",
       "      <th>Fence</th>\n",
       "      <th>MiscFeature</th>\n",
       "      <th>MiscVal</th>\n",
       "      <th>MoSold</th>\n",
       "      <th>YrSold</th>\n",
       "      <th>SaleType</th>\n",
       "      <th>SaleCondition</th>\n",
       "    </tr>\n",
       "  </thead>\n",
       "  <tbody>\n",
       "    <tr>\n",
       "      <th>0</th>\n",
       "      <td>1461</td>\n",
       "      <td>20</td>\n",
       "      <td>RH</td>\n",
       "      <td>80.0</td>\n",
       "      <td>11622</td>\n",
       "      <td>Pave</td>\n",
       "      <td>NaN</td>\n",
       "      <td>Reg</td>\n",
       "      <td>Lvl</td>\n",
       "      <td>AllPub</td>\n",
       "      <td>...</td>\n",
       "      <td>120</td>\n",
       "      <td>0</td>\n",
       "      <td>NaN</td>\n",
       "      <td>MnPrv</td>\n",
       "      <td>NaN</td>\n",
       "      <td>0</td>\n",
       "      <td>6</td>\n",
       "      <td>2010</td>\n",
       "      <td>WD</td>\n",
       "      <td>Normal</td>\n",
       "    </tr>\n",
       "    <tr>\n",
       "      <th>1</th>\n",
       "      <td>1462</td>\n",
       "      <td>20</td>\n",
       "      <td>RL</td>\n",
       "      <td>81.0</td>\n",
       "      <td>14267</td>\n",
       "      <td>Pave</td>\n",
       "      <td>NaN</td>\n",
       "      <td>IR1</td>\n",
       "      <td>Lvl</td>\n",
       "      <td>AllPub</td>\n",
       "      <td>...</td>\n",
       "      <td>0</td>\n",
       "      <td>0</td>\n",
       "      <td>NaN</td>\n",
       "      <td>NaN</td>\n",
       "      <td>Gar2</td>\n",
       "      <td>12500</td>\n",
       "      <td>6</td>\n",
       "      <td>2010</td>\n",
       "      <td>WD</td>\n",
       "      <td>Normal</td>\n",
       "    </tr>\n",
       "    <tr>\n",
       "      <th>2</th>\n",
       "      <td>1463</td>\n",
       "      <td>60</td>\n",
       "      <td>RL</td>\n",
       "      <td>74.0</td>\n",
       "      <td>13830</td>\n",
       "      <td>Pave</td>\n",
       "      <td>NaN</td>\n",
       "      <td>IR1</td>\n",
       "      <td>Lvl</td>\n",
       "      <td>AllPub</td>\n",
       "      <td>...</td>\n",
       "      <td>0</td>\n",
       "      <td>0</td>\n",
       "      <td>NaN</td>\n",
       "      <td>MnPrv</td>\n",
       "      <td>NaN</td>\n",
       "      <td>0</td>\n",
       "      <td>3</td>\n",
       "      <td>2010</td>\n",
       "      <td>WD</td>\n",
       "      <td>Normal</td>\n",
       "    </tr>\n",
       "    <tr>\n",
       "      <th>3</th>\n",
       "      <td>1464</td>\n",
       "      <td>60</td>\n",
       "      <td>RL</td>\n",
       "      <td>78.0</td>\n",
       "      <td>9978</td>\n",
       "      <td>Pave</td>\n",
       "      <td>NaN</td>\n",
       "      <td>IR1</td>\n",
       "      <td>Lvl</td>\n",
       "      <td>AllPub</td>\n",
       "      <td>...</td>\n",
       "      <td>0</td>\n",
       "      <td>0</td>\n",
       "      <td>NaN</td>\n",
       "      <td>NaN</td>\n",
       "      <td>NaN</td>\n",
       "      <td>0</td>\n",
       "      <td>6</td>\n",
       "      <td>2010</td>\n",
       "      <td>WD</td>\n",
       "      <td>Normal</td>\n",
       "    </tr>\n",
       "    <tr>\n",
       "      <th>4</th>\n",
       "      <td>1465</td>\n",
       "      <td>120</td>\n",
       "      <td>RL</td>\n",
       "      <td>43.0</td>\n",
       "      <td>5005</td>\n",
       "      <td>Pave</td>\n",
       "      <td>NaN</td>\n",
       "      <td>IR1</td>\n",
       "      <td>HLS</td>\n",
       "      <td>AllPub</td>\n",
       "      <td>...</td>\n",
       "      <td>144</td>\n",
       "      <td>0</td>\n",
       "      <td>NaN</td>\n",
       "      <td>NaN</td>\n",
       "      <td>NaN</td>\n",
       "      <td>0</td>\n",
       "      <td>1</td>\n",
       "      <td>2010</td>\n",
       "      <td>WD</td>\n",
       "      <td>Normal</td>\n",
       "    </tr>\n",
       "    <tr>\n",
       "      <th>5</th>\n",
       "      <td>1466</td>\n",
       "      <td>60</td>\n",
       "      <td>RL</td>\n",
       "      <td>75.0</td>\n",
       "      <td>10000</td>\n",
       "      <td>Pave</td>\n",
       "      <td>NaN</td>\n",
       "      <td>IR1</td>\n",
       "      <td>Lvl</td>\n",
       "      <td>AllPub</td>\n",
       "      <td>...</td>\n",
       "      <td>0</td>\n",
       "      <td>0</td>\n",
       "      <td>NaN</td>\n",
       "      <td>NaN</td>\n",
       "      <td>NaN</td>\n",
       "      <td>0</td>\n",
       "      <td>4</td>\n",
       "      <td>2010</td>\n",
       "      <td>WD</td>\n",
       "      <td>Normal</td>\n",
       "    </tr>\n",
       "    <tr>\n",
       "      <th>6</th>\n",
       "      <td>1467</td>\n",
       "      <td>20</td>\n",
       "      <td>RL</td>\n",
       "      <td>NaN</td>\n",
       "      <td>7980</td>\n",
       "      <td>Pave</td>\n",
       "      <td>NaN</td>\n",
       "      <td>IR1</td>\n",
       "      <td>Lvl</td>\n",
       "      <td>AllPub</td>\n",
       "      <td>...</td>\n",
       "      <td>0</td>\n",
       "      <td>0</td>\n",
       "      <td>NaN</td>\n",
       "      <td>GdPrv</td>\n",
       "      <td>Shed</td>\n",
       "      <td>500</td>\n",
       "      <td>3</td>\n",
       "      <td>2010</td>\n",
       "      <td>WD</td>\n",
       "      <td>Normal</td>\n",
       "    </tr>\n",
       "    <tr>\n",
       "      <th>7</th>\n",
       "      <td>1468</td>\n",
       "      <td>60</td>\n",
       "      <td>RL</td>\n",
       "      <td>63.0</td>\n",
       "      <td>8402</td>\n",
       "      <td>Pave</td>\n",
       "      <td>NaN</td>\n",
       "      <td>IR1</td>\n",
       "      <td>Lvl</td>\n",
       "      <td>AllPub</td>\n",
       "      <td>...</td>\n",
       "      <td>0</td>\n",
       "      <td>0</td>\n",
       "      <td>NaN</td>\n",
       "      <td>NaN</td>\n",
       "      <td>NaN</td>\n",
       "      <td>0</td>\n",
       "      <td>5</td>\n",
       "      <td>2010</td>\n",
       "      <td>WD</td>\n",
       "      <td>Normal</td>\n",
       "    </tr>\n",
       "  </tbody>\n",
       "</table>\n",
       "<p>8 rows × 80 columns</p>\n",
       "</div>"
      ],
      "text/plain": [
       "     Id  MSSubClass MSZoning  LotFrontage  LotArea Street Alley LotShape  \\\n",
       "0  1461          20       RH         80.0    11622   Pave   NaN      Reg   \n",
       "1  1462          20       RL         81.0    14267   Pave   NaN      IR1   \n",
       "2  1463          60       RL         74.0    13830   Pave   NaN      IR1   \n",
       "3  1464          60       RL         78.0     9978   Pave   NaN      IR1   \n",
       "4  1465         120       RL         43.0     5005   Pave   NaN      IR1   \n",
       "5  1466          60       RL         75.0    10000   Pave   NaN      IR1   \n",
       "6  1467          20       RL          NaN     7980   Pave   NaN      IR1   \n",
       "7  1468          60       RL         63.0     8402   Pave   NaN      IR1   \n",
       "\n",
       "  LandContour Utilities  ... ScreenPorch PoolArea PoolQC  Fence MiscFeature  \\\n",
       "0         Lvl    AllPub  ...         120        0    NaN  MnPrv         NaN   \n",
       "1         Lvl    AllPub  ...           0        0    NaN    NaN        Gar2   \n",
       "2         Lvl    AllPub  ...           0        0    NaN  MnPrv         NaN   \n",
       "3         Lvl    AllPub  ...           0        0    NaN    NaN         NaN   \n",
       "4         HLS    AllPub  ...         144        0    NaN    NaN         NaN   \n",
       "5         Lvl    AllPub  ...           0        0    NaN    NaN         NaN   \n",
       "6         Lvl    AllPub  ...           0        0    NaN  GdPrv        Shed   \n",
       "7         Lvl    AllPub  ...           0        0    NaN    NaN         NaN   \n",
       "\n",
       "  MiscVal MoSold  YrSold  SaleType  SaleCondition  \n",
       "0       0      6    2010        WD         Normal  \n",
       "1   12500      6    2010        WD         Normal  \n",
       "2       0      3    2010        WD         Normal  \n",
       "3       0      6    2010        WD         Normal  \n",
       "4       0      1    2010        WD         Normal  \n",
       "5       0      4    2010        WD         Normal  \n",
       "6     500      3    2010        WD         Normal  \n",
       "7       0      5    2010        WD         Normal  \n",
       "\n",
       "[8 rows x 80 columns]"
      ]
     },
     "execution_count": 66,
     "metadata": {},
     "output_type": "execute_result"
    }
   ],
   "source": [
    "test = pd.read_csv('test.csv')\n",
    "test.head(8)"
   ]
  },
  {
   "cell_type": "code",
   "execution_count": 67,
   "id": "a8d035b4-26d2-4ca2-9ed5-9bbae0897f1f",
   "metadata": {},
   "outputs": [
    {
     "data": {
      "text/plain": [
       "PoolQC          1456\n",
       "MiscFeature     1408\n",
       "Alley           1352\n",
       "Fence           1169\n",
       "MasVnrType       894\n",
       "FireplaceQu      730\n",
       "LotFrontage      227\n",
       "GarageYrBlt       78\n",
       "GarageQual        78\n",
       "GarageFinish      78\n",
       "GarageCond        78\n",
       "GarageType        76\n",
       "BsmtCond          45\n",
       "BsmtQual          44\n",
       "BsmtExposure      44\n",
       "BsmtFinType1      42\n",
       "BsmtFinType2      42\n",
       "MasVnrArea        15\n",
       "MSZoning           4\n",
       "BsmtHalfBath       2\n",
       "Utilities          2\n",
       "Functional         2\n",
       "BsmtFullBath       2\n",
       "BsmtFinSF1         1\n",
       "BsmtFinSF2         1\n",
       "BsmtUnfSF          1\n",
       "KitchenQual        1\n",
       "TotalBsmtSF        1\n",
       "Exterior2nd        1\n",
       "GarageCars         1\n",
       "Exterior1st        1\n",
       "GarageArea         1\n",
       "SaleType           1\n",
       "MiscVal            0\n",
       "dtype: int64"
      ]
     },
     "execution_count": 67,
     "metadata": {},
     "output_type": "execute_result"
    }
   ],
   "source": [
    "test.isna().sum().sort_values(ascending=False).head(34)"
   ]
  },
  {
   "cell_type": "markdown",
   "id": "59c0093a-c081-40ff-b297-d2e021f2bcdc",
   "metadata": {
    "jp-MarkdownHeadingCollapsed": true
   },
   "source": [
    "#### Tratando NA"
   ]
  },
  {
   "cell_type": "code",
   "execution_count": 68,
   "id": "52f2c8c3-5f47-414d-8e92-b7bbfb5e8f19",
   "metadata": {},
   "outputs": [
    {
     "data": {
      "text/plain": [
       "LotFrontage\n",
       "60.0     133\n",
       "80.0      68\n",
       "70.0      63\n",
       "50.0      60\n",
       "75.0      52\n",
       "        ... \n",
       "117.0      1\n",
       "31.0       1\n",
       "119.0      1\n",
       "25.0       1\n",
       "140.0      1\n",
       "Name: count, Length: 115, dtype: int64"
      ]
     },
     "execution_count": 68,
     "metadata": {},
     "output_type": "execute_result"
    }
   ],
   "source": [
    "test.LotFrontage.value_counts()"
   ]
  },
  {
   "cell_type": "code",
   "execution_count": 69,
   "id": "181ec6e8-0913-47c9-8b8d-d8aee43768e8",
   "metadata": {},
   "outputs": [],
   "source": [
    "test['LotFrontage'] = test.LotFrontage.fillna(test.LotFrontage.mean())"
   ]
  },
  {
   "cell_type": "code",
   "execution_count": 70,
   "id": "cea7f701-bc58-484a-94f9-7c90478818a6",
   "metadata": {},
   "outputs": [
    {
     "data": {
      "text/plain": [
       "Alley\n",
       "Grvl    70\n",
       "Pave    37\n",
       "Name: count, dtype: int64"
      ]
     },
     "execution_count": 70,
     "metadata": {},
     "output_type": "execute_result"
    }
   ],
   "source": [
    "test.Alley.value_counts()"
   ]
  },
  {
   "cell_type": "code",
   "execution_count": 71,
   "id": "1d35474f-b1cf-4cb8-8843-ab8b6508a741",
   "metadata": {},
   "outputs": [],
   "source": [
    "test['Alley'] = test.Alley.fillna('Grvl')"
   ]
  },
  {
   "cell_type": "code",
   "execution_count": 72,
   "id": "00e6e0eb-03b6-4242-89c6-80b2adb388e1",
   "metadata": {},
   "outputs": [
    {
     "data": {
      "text/plain": [
       "MasVnrType\n",
       "BrkFace    434\n",
       "Stone      121\n",
       "BrkCmn      10\n",
       "Name: count, dtype: int64"
      ]
     },
     "execution_count": 72,
     "metadata": {},
     "output_type": "execute_result"
    }
   ],
   "source": [
    "test.MasVnrType.value_counts()"
   ]
  },
  {
   "cell_type": "code",
   "execution_count": 73,
   "id": "dfc805fb-cdb2-4321-bd1d-b55d5fdca341",
   "metadata": {},
   "outputs": [],
   "source": [
    "test['MasVnrType'] = test.MasVnrType.fillna('BrkFace')"
   ]
  },
  {
   "cell_type": "code",
   "execution_count": 74,
   "id": "702bc54e-eba2-4764-a9de-3d4a6ece67f6",
   "metadata": {},
   "outputs": [
    {
     "data": {
      "text/plain": [
       "FireplaceQu\n",
       "Gd    364\n",
       "TA    279\n",
       "Fa     41\n",
       "Po     26\n",
       "Ex     19\n",
       "Name: count, dtype: int64"
      ]
     },
     "execution_count": 74,
     "metadata": {},
     "output_type": "execute_result"
    }
   ],
   "source": [
    "test.FireplaceQu.value_counts()"
   ]
  },
  {
   "cell_type": "code",
   "execution_count": 75,
   "id": "eda12419-18f8-44ae-a75c-ddbd16dd0e51",
   "metadata": {},
   "outputs": [],
   "source": [
    "test['FireplaceQu'] = test.FireplaceQu.fillna('Gd')"
   ]
  },
  {
   "cell_type": "code",
   "execution_count": 76,
   "id": "069afa3c-6187-484f-abbf-b3728b39fda7",
   "metadata": {},
   "outputs": [
    {
     "data": {
      "text/plain": [
       "PoolQC\n",
       "Ex    2\n",
       "Gd    1\n",
       "Name: count, dtype: int64"
      ]
     },
     "execution_count": 76,
     "metadata": {},
     "output_type": "execute_result"
    }
   ],
   "source": [
    "test.PoolQC.value_counts()"
   ]
  },
  {
   "cell_type": "code",
   "execution_count": 77,
   "id": "0c613c86-6361-4d98-b87f-85368290bf82",
   "metadata": {},
   "outputs": [],
   "source": [
    "test['PoolQC'] = test.PoolQC.fillna('Ex')"
   ]
  },
  {
   "cell_type": "code",
   "execution_count": 78,
   "id": "517ee880-68aa-4fe8-8c67-f85825e0d837",
   "metadata": {},
   "outputs": [
    {
     "data": {
      "text/plain": [
       "Fence\n",
       "MnPrv    172\n",
       "GdPrv     59\n",
       "GdWo      58\n",
       "MnWw       1\n",
       "Name: count, dtype: int64"
      ]
     },
     "execution_count": 78,
     "metadata": {},
     "output_type": "execute_result"
    }
   ],
   "source": [
    "test.Fence.value_counts()"
   ]
  },
  {
   "cell_type": "code",
   "execution_count": 79,
   "id": "90fb489e-d253-4e56-a3bf-00de0377ac88",
   "metadata": {},
   "outputs": [],
   "source": [
    "test['Fence'] = test.Fence.fillna('MnPrv')"
   ]
  },
  {
   "cell_type": "code",
   "execution_count": 80,
   "id": "4ea4a30b-96ff-48b8-928b-7d43b2f3cd22",
   "metadata": {},
   "outputs": [
    {
     "data": {
      "text/plain": [
       "MiscFeature\n",
       "Shed    46\n",
       "Gar2     3\n",
       "Othr     2\n",
       "Name: count, dtype: int64"
      ]
     },
     "execution_count": 80,
     "metadata": {},
     "output_type": "execute_result"
    }
   ],
   "source": [
    "test.MiscFeature.value_counts()"
   ]
  },
  {
   "cell_type": "code",
   "execution_count": 81,
   "id": "a58e6610-d8ab-4ad8-b636-33a3a4b75f88",
   "metadata": {},
   "outputs": [],
   "source": [
    "test['MiscFeature'] = test.MiscFeature.fillna('Shed')"
   ]
  },
  {
   "cell_type": "code",
   "execution_count": 82,
   "id": "404def71-6f25-4dfa-a24a-41933a3f6c07",
   "metadata": {},
   "outputs": [
    {
     "data": {
      "text/plain": [
       "GarageQual      78\n",
       "GarageCond      78\n",
       "GarageYrBlt     78\n",
       "GarageFinish    78\n",
       "GarageType      76\n",
       "BsmtCond        45\n",
       "BsmtExposure    44\n",
       "BsmtQual        44\n",
       "BsmtFinType1    42\n",
       "BsmtFinType2    42\n",
       "MasVnrArea      15\n",
       "MSZoning         4\n",
       "BsmtHalfBath     2\n",
       "Utilities        2\n",
       "Functional       2\n",
       "BsmtFullBath     2\n",
       "BsmtFinSF1       1\n",
       "BsmtFinSF2       1\n",
       "BsmtUnfSF        1\n",
       "TotalBsmtSF      1\n",
       "KitchenQual      1\n",
       "Exterior2nd      1\n",
       "Exterior1st      1\n",
       "GarageCars       1\n",
       "GarageArea       1\n",
       "SaleType         1\n",
       "FullBath         0\n",
       "dtype: int64"
      ]
     },
     "execution_count": 82,
     "metadata": {},
     "output_type": "execute_result"
    }
   ],
   "source": [
    "test.isna().sum().sort_values(ascending=False).head(27)"
   ]
  },
  {
   "cell_type": "code",
   "execution_count": 83,
   "id": "0132eb44-3cec-4def-9f3f-750c5b093430",
   "metadata": {},
   "outputs": [
    {
     "data": {
      "text/plain": [
       "Electrical\n",
       "SBrkr    1337\n",
       "FuseA      94\n",
       "FuseF      23\n",
       "FuseP       5\n",
       "Name: count, dtype: int64"
      ]
     },
     "execution_count": 83,
     "metadata": {},
     "output_type": "execute_result"
    }
   ],
   "source": [
    "test.Electrical.value_counts()"
   ]
  },
  {
   "cell_type": "code",
   "execution_count": 84,
   "id": "e2779eaf-efa1-4aa7-b0e5-e1676fa5358e",
   "metadata": {},
   "outputs": [],
   "source": [
    "test['Electrical'] = test.Electrical.fillna('SBrkr')"
   ]
  },
  {
   "cell_type": "code",
   "execution_count": 85,
   "id": "fe9dd021-c868-40a9-b1a4-ddcf68e52350",
   "metadata": {},
   "outputs": [],
   "source": [
    "test['MasVnrArea'] = test.MasVnrArea.fillna(test['MasVnrArea'].mean())"
   ]
  },
  {
   "cell_type": "code",
   "execution_count": 86,
   "id": "a8bca964-f1a8-4f8c-b7b6-dae4fc7004fc",
   "metadata": {
    "scrolled": true
   },
   "outputs": [
    {
     "data": {
      "text/plain": [
       "BsmtQual\n",
       "TA    634\n",
       "Gd    591\n",
       "Ex    137\n",
       "Fa     53\n",
       "Name: count, dtype: int64"
      ]
     },
     "execution_count": 86,
     "metadata": {},
     "output_type": "execute_result"
    }
   ],
   "source": [
    "test.BsmtQual.value_counts()"
   ]
  },
  {
   "cell_type": "code",
   "execution_count": 87,
   "id": "6a0e8599-828b-4bc1-8a5a-cd294d788a88",
   "metadata": {},
   "outputs": [],
   "source": [
    "test['BsmtQual'] = test.BsmtQual.fillna('TA')"
   ]
  },
  {
   "cell_type": "code",
   "execution_count": 88,
   "id": "745c953e-721b-48b4-9263-b2917890fa6a",
   "metadata": {},
   "outputs": [
    {
     "data": {
      "text/plain": [
       "BsmtCond\n",
       "TA    1295\n",
       "Fa      59\n",
       "Gd      57\n",
       "Po       3\n",
       "Name: count, dtype: int64"
      ]
     },
     "execution_count": 88,
     "metadata": {},
     "output_type": "execute_result"
    }
   ],
   "source": [
    "test.BsmtCond.value_counts()"
   ]
  },
  {
   "cell_type": "code",
   "execution_count": 89,
   "id": "151710dc-d0aa-4219-bcc9-553099f2e259",
   "metadata": {},
   "outputs": [],
   "source": [
    "test['BsmtCond'] = test.BsmtCond.fillna('TA')"
   ]
  },
  {
   "cell_type": "code",
   "execution_count": 90,
   "id": "8c500376-ebc9-4203-8bd7-117cf1f8a840",
   "metadata": {},
   "outputs": [
    {
     "data": {
      "text/plain": [
       "BsmtFinType1\n",
       "GLQ    431\n",
       "Unf    421\n",
       "ALQ    209\n",
       "Rec    155\n",
       "BLQ    121\n",
       "LwQ     80\n",
       "Name: count, dtype: int64"
      ]
     },
     "execution_count": 90,
     "metadata": {},
     "output_type": "execute_result"
    }
   ],
   "source": [
    "test.BsmtFinType1.value_counts()"
   ]
  },
  {
   "cell_type": "code",
   "execution_count": 91,
   "id": "fb37ab3e-f0f3-491c-98ed-9f705d137963",
   "metadata": {},
   "outputs": [],
   "source": [
    "test['BsmtFinType1'] = test.BsmtFinType1.fillna('GLQ')"
   ]
  },
  {
   "cell_type": "code",
   "execution_count": 92,
   "id": "ca6a71da-87ff-4e60-a36f-07e4fa38ba88",
   "metadata": {},
   "outputs": [
    {
     "data": {
      "text/plain": [
       "BsmtFinType2\n",
       "Unf    1237\n",
       "Rec      51\n",
       "LwQ      41\n",
       "BLQ      35\n",
       "ALQ      33\n",
       "GLQ      20\n",
       "Name: count, dtype: int64"
      ]
     },
     "execution_count": 92,
     "metadata": {},
     "output_type": "execute_result"
    }
   ],
   "source": [
    "test.BsmtFinType2.value_counts()"
   ]
  },
  {
   "cell_type": "code",
   "execution_count": 93,
   "id": "667f28e2-0186-4f65-8613-2d865f6a8e51",
   "metadata": {},
   "outputs": [],
   "source": [
    "test['BsmtFinType2'] = test.BsmtFinType2.fillna('Unf')"
   ]
  },
  {
   "cell_type": "code",
   "execution_count": 94,
   "id": "1ac83f67-94ac-4a47-8e69-744a17dcf966",
   "metadata": {},
   "outputs": [
    {
     "data": {
      "text/plain": [
       "BsmtExposure\n",
       "No    951\n",
       "Av    197\n",
       "Gd    142\n",
       "Mn    125\n",
       "Name: count, dtype: int64"
      ]
     },
     "execution_count": 94,
     "metadata": {},
     "output_type": "execute_result"
    }
   ],
   "source": [
    "test.BsmtExposure.value_counts()"
   ]
  },
  {
   "cell_type": "code",
   "execution_count": 95,
   "id": "e7b8899f-e73e-442e-878b-19f588892a1e",
   "metadata": {},
   "outputs": [],
   "source": [
    "test['BsmtExposure'] = test.BsmtExposure.fillna('No')"
   ]
  },
  {
   "cell_type": "code",
   "execution_count": 96,
   "id": "b6813137-edc9-4f6b-965e-588c6c826580",
   "metadata": {},
   "outputs": [
    {
     "data": {
      "text/plain": [
       "GarageFinish\n",
       "Unf    625\n",
       "RFn    389\n",
       "Fin    367\n",
       "Name: count, dtype: int64"
      ]
     },
     "execution_count": 96,
     "metadata": {},
     "output_type": "execute_result"
    }
   ],
   "source": [
    "test.GarageFinish.value_counts()"
   ]
  },
  {
   "cell_type": "code",
   "execution_count": 97,
   "id": "39ca48a9-4cf0-4b86-afc1-28f323d228e5",
   "metadata": {},
   "outputs": [],
   "source": [
    "test['GarageFinish'] = test.GarageFinish.fillna('Unf')"
   ]
  },
  {
   "cell_type": "code",
   "execution_count": 98,
   "id": "8f89d6d8-cf49-406b-893f-abe9143ed09f",
   "metadata": {},
   "outputs": [
    {
     "data": {
      "text/plain": [
       "GarageType\n",
       "Attchd     853\n",
       "Detchd     392\n",
       "BuiltIn     98\n",
       "Basment     17\n",
       "2Types      17\n",
       "CarPort      6\n",
       "Name: count, dtype: int64"
      ]
     },
     "execution_count": 98,
     "metadata": {},
     "output_type": "execute_result"
    }
   ],
   "source": [
    "test.GarageType.value_counts()"
   ]
  },
  {
   "cell_type": "code",
   "execution_count": 99,
   "id": "47fcc314-8b3b-4e83-a867-384630ab6e06",
   "metadata": {},
   "outputs": [],
   "source": [
    "test['GarageType'] = test.GarageType.fillna('Attchd')  "
   ]
  },
  {
   "cell_type": "code",
   "execution_count": 100,
   "id": "f23e2a68-7c7d-457f-a74d-2c078d1afa4a",
   "metadata": {},
   "outputs": [
    {
     "data": {
      "text/plain": [
       "GarageQual\n",
       "TA    1293\n",
       "Fa      76\n",
       "Gd      10\n",
       "Po       2\n",
       "Name: count, dtype: int64"
      ]
     },
     "execution_count": 100,
     "metadata": {},
     "output_type": "execute_result"
    }
   ],
   "source": [
    "test.GarageQual.value_counts()"
   ]
  },
  {
   "cell_type": "code",
   "execution_count": 101,
   "id": "e28e8fe5-6428-468a-9ed1-5b344bef23bb",
   "metadata": {},
   "outputs": [],
   "source": [
    "test['GarageQual'] = test.GarageQual.fillna('TA')"
   ]
  },
  {
   "cell_type": "code",
   "execution_count": 102,
   "id": "13e3b094-b6e8-415f-9219-04c30f4ce534",
   "metadata": {},
   "outputs": [
    {
     "data": {
      "text/plain": [
       "GarageCond\n",
       "TA    1328\n",
       "Fa      39\n",
       "Po       7\n",
       "Gd       6\n",
       "Ex       1\n",
       "Name: count, dtype: int64"
      ]
     },
     "execution_count": 102,
     "metadata": {},
     "output_type": "execute_result"
    }
   ],
   "source": [
    "test.GarageCond.value_counts() "
   ]
  },
  {
   "cell_type": "code",
   "execution_count": 103,
   "id": "95c54d66-ad38-4e09-bfad-5892c4ca86eb",
   "metadata": {},
   "outputs": [],
   "source": [
    "test['GarageCond'] = test.GarageCond.fillna('TA')"
   ]
  },
  {
   "cell_type": "code",
   "execution_count": 104,
   "id": "4642d572-7cdf-4771-a22b-1d8271bcb9ed",
   "metadata": {},
   "outputs": [
    {
     "data": {
      "text/plain": [
       "GarageYrBlt\n",
       "2005.0    77\n",
       "2007.0    66\n",
       "2006.0    56\n",
       "2004.0    46\n",
       "2003.0    42\n",
       "          ..\n",
       "1918.0     1\n",
       "1895.0     1\n",
       "1932.0     1\n",
       "1916.0     1\n",
       "1919.0     1\n",
       "Name: count, Length: 97, dtype: int64"
      ]
     },
     "execution_count": 104,
     "metadata": {},
     "output_type": "execute_result"
    }
   ],
   "source": [
    "test.GarageYrBlt.value_counts()"
   ]
  },
  {
   "cell_type": "code",
   "execution_count": 105,
   "id": "d0d088e1-40b7-48fe-b75d-9d13ec8bcae6",
   "metadata": {},
   "outputs": [],
   "source": [
    "test['GarageYrBlt'] = test.GarageYrBlt.fillna(2005.0)"
   ]
  },
  {
   "cell_type": "code",
   "execution_count": 106,
   "id": "a63fe444-07b6-4e6d-8444-6b26ace39e27",
   "metadata": {},
   "outputs": [
    {
     "data": {
      "text/plain": [
       "MSZoning        4\n",
       "BsmtFullBath    2\n",
       "BsmtHalfBath    2\n",
       "Functional      2\n",
       "Utilities       2\n",
       "Exterior2nd     1\n",
       "BsmtFinSF2      1\n",
       "GarageArea      1\n",
       "BsmtFinSF1      1\n",
       "GarageCars      1\n",
       "TotalBsmtSF     1\n",
       "BsmtUnfSF       1\n",
       "Exterior1st     1\n",
       "SaleType        1\n",
       "KitchenQual     1\n",
       "FireplaceQu     0\n",
       "dtype: int64"
      ]
     },
     "execution_count": 106,
     "metadata": {},
     "output_type": "execute_result"
    }
   ],
   "source": [
    "test.isna().sum().sort_values(ascending=False).head(16)"
   ]
  },
  {
   "cell_type": "code",
   "execution_count": 107,
   "id": "c7bd9134-fbf2-4c84-9267-473612b0643e",
   "metadata": {},
   "outputs": [],
   "source": [
    "test['GarageArea'] = test.GarageArea.fillna(test.GarageArea.mean())"
   ]
  },
  {
   "cell_type": "code",
   "execution_count": 108,
   "id": "1a3093fb-f9a9-442a-a599-274f09a03cb7",
   "metadata": {},
   "outputs": [],
   "source": [
    "test['GarageCars'] = test.GarageCars.fillna(test.GarageCars.mean())"
   ]
  },
  {
   "cell_type": "code",
   "execution_count": 109,
   "id": "c4ff54cb-f4bb-44eb-8bac-e680950a2037",
   "metadata": {},
   "outputs": [],
   "source": [
    "test['BsmtFinSF1'] = test.BsmtFinSF1.fillna(test.BsmtFinSF1.mean())"
   ]
  },
  {
   "cell_type": "code",
   "execution_count": 110,
   "id": "08bdfefa-ec53-4f8b-a4dc-c014ce9e11fb",
   "metadata": {},
   "outputs": [],
   "source": [
    "test['BsmtFinSF2'] = test.BsmtFinSF2.fillna(test.BsmtFinSF2.mean())"
   ]
  },
  {
   "cell_type": "code",
   "execution_count": 111,
   "id": "653f0b87-cea3-434c-8edd-ccf256ed6735",
   "metadata": {},
   "outputs": [],
   "source": [
    "test['BsmtUnfSF'] = test.BsmtUnfSF.fillna(test.BsmtUnfSF.mean())"
   ]
  },
  {
   "cell_type": "code",
   "execution_count": 112,
   "id": "dfbbd8ec-03c7-4179-9763-5f1783d6d196",
   "metadata": {},
   "outputs": [],
   "source": [
    "test['TotalBsmtSF'] = test.TotalBsmtSF.fillna(test.TotalBsmtSF.mean())"
   ]
  },
  {
   "cell_type": "code",
   "execution_count": 113,
   "id": "e3b42415-62e3-4b33-9e42-303299f77fe0",
   "metadata": {},
   "outputs": [
    {
     "data": {
      "text/plain": [
       "Exterior1st\n",
       "VinylSd    510\n",
       "MetalSd    230\n",
       "HdBoard    220\n",
       "Wd Sdng    205\n",
       "Plywood    113\n",
       "CemntBd     65\n",
       "BrkFace     37\n",
       "WdShing     30\n",
       "AsbShng     24\n",
       "Stucco      18\n",
       "BrkComm      4\n",
       "AsphShn      1\n",
       "CBlock       1\n",
       "Name: count, dtype: int64"
      ]
     },
     "execution_count": 113,
     "metadata": {},
     "output_type": "execute_result"
    }
   ],
   "source": [
    "test.Exterior1st.value_counts()"
   ]
  },
  {
   "cell_type": "code",
   "execution_count": 114,
   "id": "dda872fa-69fa-4a00-8c2d-3878a44824be",
   "metadata": {},
   "outputs": [],
   "source": [
    "test['Exterior1st'] = test.Exterior1st.fillna('VinylSd')"
   ]
  },
  {
   "cell_type": "code",
   "execution_count": 115,
   "id": "a501b05d-d3ff-41bc-b3a9-e7675834ba8c",
   "metadata": {},
   "outputs": [
    {
     "data": {
      "text/plain": [
       "SaleType\n",
       "WD       1258\n",
       "New       117\n",
       "COD        44\n",
       "ConLD      17\n",
       "CWD         8\n",
       "Oth         4\n",
       "ConLI       4\n",
       "Con         3\n",
       "ConLw       3\n",
       "Name: count, dtype: int64"
      ]
     },
     "execution_count": 115,
     "metadata": {},
     "output_type": "execute_result"
    }
   ],
   "source": [
    "test.SaleType.value_counts()"
   ]
  },
  {
   "cell_type": "code",
   "execution_count": 116,
   "id": "c1d6e1d4-6464-4cc3-b45a-90257711f565",
   "metadata": {},
   "outputs": [],
   "source": [
    "test['SaleType'] = test.SaleType.fillna('WD')"
   ]
  },
  {
   "cell_type": "code",
   "execution_count": 117,
   "id": "7b86b80d-9582-476d-8acd-a249de0da0fb",
   "metadata": {},
   "outputs": [
    {
     "data": {
      "text/plain": [
       "KitchenQual\n",
       "TA    757\n",
       "Gd    565\n",
       "Ex    105\n",
       "Fa     31\n",
       "Name: count, dtype: int64"
      ]
     },
     "execution_count": 117,
     "metadata": {},
     "output_type": "execute_result"
    }
   ],
   "source": [
    "test.KitchenQual.value_counts()"
   ]
  },
  {
   "cell_type": "code",
   "execution_count": 118,
   "id": "5e0b4968-f500-42b2-ad3e-2771aad2e5aa",
   "metadata": {},
   "outputs": [],
   "source": [
    "test['KitchenQual'] = test.KitchenQual.fillna('TA')"
   ]
  },
  {
   "cell_type": "code",
   "execution_count": 119,
   "id": "33b783e9-0e04-4291-9024-35ba7d271f94",
   "metadata": {},
   "outputs": [
    {
     "data": {
      "text/plain": [
       "Exterior2nd\n",
       "VinylSd    510\n",
       "MetalSd    233\n",
       "HdBoard    199\n",
       "Wd Sdng    194\n",
       "Plywood    128\n",
       "CmentBd     66\n",
       "Wd Shng     43\n",
       "BrkFace     22\n",
       "Stucco      21\n",
       "AsbShng     18\n",
       "Brk Cmn     15\n",
       "ImStucc      5\n",
       "CBlock       2\n",
       "AsphShn      1\n",
       "Stone        1\n",
       "Name: count, dtype: int64"
      ]
     },
     "execution_count": 119,
     "metadata": {},
     "output_type": "execute_result"
    }
   ],
   "source": [
    "test.Exterior2nd.value_counts()"
   ]
  },
  {
   "cell_type": "code",
   "execution_count": 120,
   "id": "eb27f39b-0114-46a8-9a06-bc7e2925da59",
   "metadata": {},
   "outputs": [],
   "source": [
    "test['Exterior2nd'] = test.Exterior2nd.fillna('VinylSd')"
   ]
  },
  {
   "cell_type": "code",
   "execution_count": 121,
   "id": "87913101-09dd-481e-8de0-eab14f32b98f",
   "metadata": {},
   "outputs": [
    {
     "data": {
      "text/plain": [
       "Functional\n",
       "Typ     1357\n",
       "Min2      36\n",
       "Min1      34\n",
       "Mod       20\n",
       "Maj1       5\n",
       "Maj2       4\n",
       "Sev        1\n",
       "Name: count, dtype: int64"
      ]
     },
     "execution_count": 121,
     "metadata": {},
     "output_type": "execute_result"
    }
   ],
   "source": [
    "test.Functional.value_counts()"
   ]
  },
  {
   "cell_type": "code",
   "execution_count": 122,
   "id": "a4fd355a-fd1a-47bc-b56c-f2d085badae0",
   "metadata": {},
   "outputs": [],
   "source": [
    "test['Functional'] = test.Functional.fillna('Typ')"
   ]
  },
  {
   "cell_type": "code",
   "execution_count": 123,
   "id": "9b39b337-5c80-4858-9fae-e398a71073b5",
   "metadata": {},
   "outputs": [
    {
     "data": {
      "text/plain": [
       "Utilities\n",
       "AllPub    1457\n",
       "Name: count, dtype: int64"
      ]
     },
     "execution_count": 123,
     "metadata": {},
     "output_type": "execute_result"
    }
   ],
   "source": [
    "test.Utilities.value_counts()"
   ]
  },
  {
   "cell_type": "code",
   "execution_count": 124,
   "id": "e8ef1f26-373f-44bb-bd9d-86ef0dcddb4b",
   "metadata": {},
   "outputs": [],
   "source": [
    "test['Utilities'] = test.Utilities.fillna('AllPub')"
   ]
  },
  {
   "cell_type": "code",
   "execution_count": 125,
   "id": "e91bf72d-2db0-44c4-b69c-7cd1d09356d7",
   "metadata": {},
   "outputs": [],
   "source": [
    "test['BsmtHalfBath'] = test.BsmtHalfBath.fillna(test.BsmtHalfBath.mean())"
   ]
  },
  {
   "cell_type": "code",
   "execution_count": 126,
   "id": "b01d349e-3cfa-4890-b447-9a7f87e9b0c5",
   "metadata": {},
   "outputs": [],
   "source": [
    "test['BsmtFullBath'] = test.BsmtFullBath.fillna(test.BsmtFullBath.mean())"
   ]
  },
  {
   "cell_type": "code",
   "execution_count": 127,
   "id": "f6fce16c-2022-4ba4-85a7-908e2c937da0",
   "metadata": {},
   "outputs": [
    {
     "data": {
      "text/plain": [
       "MSZoning\n",
       "RL         1114\n",
       "RM          242\n",
       "FV           74\n",
       "C (all)      15\n",
       "RH           10\n",
       "Name: count, dtype: int64"
      ]
     },
     "execution_count": 127,
     "metadata": {},
     "output_type": "execute_result"
    }
   ],
   "source": [
    "test.MSZoning.value_counts()"
   ]
  },
  {
   "cell_type": "code",
   "execution_count": 128,
   "id": "9a8ca538-a9f5-4299-a17c-0fde34969a5a",
   "metadata": {},
   "outputs": [],
   "source": [
    "test['MSZoning'] = test.MSZoning.fillna('RL')"
   ]
  },
  {
   "cell_type": "markdown",
   "id": "2f17a921-06c3-4799-a29e-25a616264ed4",
   "metadata": {
    "jp-MarkdownHeadingCollapsed": true
   },
   "source": [
    "#### OHE"
   ]
  },
  {
   "cell_type": "code",
   "execution_count": 129,
   "id": "b309b149-3736-4cb7-810f-ad2249f1277f",
   "metadata": {},
   "outputs": [],
   "source": [
    "from sklearn.preprocessing import OneHotEncoder"
   ]
  },
  {
   "cell_type": "code",
   "execution_count": 130,
   "id": "0a19f889-d035-4cb8-8650-02f136167a13",
   "metadata": {},
   "outputs": [
    {
     "data": {
      "text/plain": [
       "Index(['MSZoning', 'Street', 'Alley', 'LotShape', 'LandContour', 'Utilities',\n",
       "       'LotConfig', 'LandSlope', 'Neighborhood', 'Condition1', 'Condition2',\n",
       "       'BldgType', 'HouseStyle', 'RoofStyle', 'RoofMatl', 'Exterior1st',\n",
       "       'Exterior2nd', 'MasVnrType', 'ExterQual', 'ExterCond', 'Foundation',\n",
       "       'BsmtQual', 'BsmtCond', 'BsmtExposure', 'BsmtFinType1', 'BsmtFinType2',\n",
       "       'Heating', 'HeatingQC', 'CentralAir', 'Electrical', 'KitchenQual',\n",
       "       'Functional', 'FireplaceQu', 'GarageType', 'GarageFinish', 'GarageQual',\n",
       "       'GarageCond', 'PavedDrive', 'PoolQC', 'Fence', 'MiscFeature',\n",
       "       'SaleType', 'SaleCondition'],\n",
       "      dtype='object')"
      ]
     },
     "execution_count": 130,
     "metadata": {},
     "output_type": "execute_result"
    }
   ],
   "source": [
    "categorical_cols = test.select_dtypes(include=['object']).columns\n",
    "categorical_cols"
   ]
  },
  {
   "cell_type": "code",
   "execution_count": 131,
   "id": "57c046a8-6030-482c-a4e9-de7875316db9",
   "metadata": {},
   "outputs": [
    {
     "data": {
      "text/html": [
       "<div>\n",
       "<style scoped>\n",
       "    .dataframe tbody tr th:only-of-type {\n",
       "        vertical-align: middle;\n",
       "    }\n",
       "\n",
       "    .dataframe tbody tr th {\n",
       "        vertical-align: top;\n",
       "    }\n",
       "\n",
       "    .dataframe thead th {\n",
       "        text-align: right;\n",
       "    }\n",
       "</style>\n",
       "<table border=\"1\" class=\"dataframe\">\n",
       "  <thead>\n",
       "    <tr style=\"text-align: right;\">\n",
       "      <th></th>\n",
       "      <th>Id</th>\n",
       "      <th>MSSubClass</th>\n",
       "      <th>LotFrontage</th>\n",
       "      <th>LotArea</th>\n",
       "      <th>OverallQual</th>\n",
       "      <th>OverallCond</th>\n",
       "      <th>YearBuilt</th>\n",
       "      <th>YearRemodAdd</th>\n",
       "      <th>MasVnrArea</th>\n",
       "      <th>BsmtFinSF1</th>\n",
       "      <th>...</th>\n",
       "      <th>SaleType_ConLw</th>\n",
       "      <th>SaleType_New</th>\n",
       "      <th>SaleType_Oth</th>\n",
       "      <th>SaleType_WD</th>\n",
       "      <th>SaleCondition_Abnorml</th>\n",
       "      <th>SaleCondition_AdjLand</th>\n",
       "      <th>SaleCondition_Alloca</th>\n",
       "      <th>SaleCondition_Family</th>\n",
       "      <th>SaleCondition_Normal</th>\n",
       "      <th>SaleCondition_Partial</th>\n",
       "    </tr>\n",
       "  </thead>\n",
       "  <tbody>\n",
       "    <tr>\n",
       "      <th>0</th>\n",
       "      <td>1461</td>\n",
       "      <td>20</td>\n",
       "      <td>80.0</td>\n",
       "      <td>11622</td>\n",
       "      <td>5</td>\n",
       "      <td>6</td>\n",
       "      <td>1961</td>\n",
       "      <td>1961</td>\n",
       "      <td>0.0</td>\n",
       "      <td>468.0</td>\n",
       "      <td>...</td>\n",
       "      <td>0.0</td>\n",
       "      <td>0.0</td>\n",
       "      <td>0.0</td>\n",
       "      <td>1.0</td>\n",
       "      <td>0.0</td>\n",
       "      <td>0.0</td>\n",
       "      <td>0.0</td>\n",
       "      <td>0.0</td>\n",
       "      <td>1.0</td>\n",
       "      <td>0.0</td>\n",
       "    </tr>\n",
       "    <tr>\n",
       "      <th>1</th>\n",
       "      <td>1462</td>\n",
       "      <td>20</td>\n",
       "      <td>81.0</td>\n",
       "      <td>14267</td>\n",
       "      <td>6</td>\n",
       "      <td>6</td>\n",
       "      <td>1958</td>\n",
       "      <td>1958</td>\n",
       "      <td>108.0</td>\n",
       "      <td>923.0</td>\n",
       "      <td>...</td>\n",
       "      <td>0.0</td>\n",
       "      <td>0.0</td>\n",
       "      <td>0.0</td>\n",
       "      <td>1.0</td>\n",
       "      <td>0.0</td>\n",
       "      <td>0.0</td>\n",
       "      <td>0.0</td>\n",
       "      <td>0.0</td>\n",
       "      <td>1.0</td>\n",
       "      <td>0.0</td>\n",
       "    </tr>\n",
       "    <tr>\n",
       "      <th>2</th>\n",
       "      <td>1463</td>\n",
       "      <td>60</td>\n",
       "      <td>74.0</td>\n",
       "      <td>13830</td>\n",
       "      <td>5</td>\n",
       "      <td>5</td>\n",
       "      <td>1997</td>\n",
       "      <td>1998</td>\n",
       "      <td>0.0</td>\n",
       "      <td>791.0</td>\n",
       "      <td>...</td>\n",
       "      <td>0.0</td>\n",
       "      <td>0.0</td>\n",
       "      <td>0.0</td>\n",
       "      <td>1.0</td>\n",
       "      <td>0.0</td>\n",
       "      <td>0.0</td>\n",
       "      <td>0.0</td>\n",
       "      <td>0.0</td>\n",
       "      <td>1.0</td>\n",
       "      <td>0.0</td>\n",
       "    </tr>\n",
       "  </tbody>\n",
       "</table>\n",
       "<p>3 rows × 270 columns</p>\n",
       "</div>"
      ],
      "text/plain": [
       "     Id  MSSubClass  LotFrontage  LotArea  OverallQual  OverallCond  \\\n",
       "0  1461          20         80.0    11622            5            6   \n",
       "1  1462          20         81.0    14267            6            6   \n",
       "2  1463          60         74.0    13830            5            5   \n",
       "\n",
       "   YearBuilt  YearRemodAdd  MasVnrArea  BsmtFinSF1  ...  SaleType_ConLw  \\\n",
       "0       1961          1961         0.0       468.0  ...             0.0   \n",
       "1       1958          1958       108.0       923.0  ...             0.0   \n",
       "2       1997          1998         0.0       791.0  ...             0.0   \n",
       "\n",
       "   SaleType_New  SaleType_Oth  SaleType_WD  SaleCondition_Abnorml  \\\n",
       "0           0.0           0.0          1.0                    0.0   \n",
       "1           0.0           0.0          1.0                    0.0   \n",
       "2           0.0           0.0          1.0                    0.0   \n",
       "\n",
       "   SaleCondition_AdjLand  SaleCondition_Alloca  SaleCondition_Family  \\\n",
       "0                    0.0                   0.0                   0.0   \n",
       "1                    0.0                   0.0                   0.0   \n",
       "2                    0.0                   0.0                   0.0   \n",
       "\n",
       "   SaleCondition_Normal  SaleCondition_Partial  \n",
       "0                   1.0                    0.0  \n",
       "1                   1.0                    0.0  \n",
       "2                   1.0                    0.0  \n",
       "\n",
       "[3 rows x 270 columns]"
      ]
     },
     "execution_count": 131,
     "metadata": {},
     "output_type": "execute_result"
    }
   ],
   "source": [
    "oh_encoder = OneHotEncoder(sparse_output=False)\n",
    "encoded = oh_encoder.fit_transform(test[categorical_cols])\n",
    "encoded_df = pd.DataFrame(encoded, columns=oh_encoder.get_feature_names_out(categorical_cols))\n",
    "test = pd.concat([test.drop(categorical_cols, axis=1), encoded_df], axis=1)\n",
    "test.head(3)"
   ]
  },
  {
   "cell_type": "code",
   "execution_count": 132,
   "id": "ab0c0ce0-f156-4637-b348-949dee8711d8",
   "metadata": {},
   "outputs": [],
   "source": [
    "train_columns = gb_reg.feature_names_in_"
   ]
  },
  {
   "cell_type": "code",
   "execution_count": 141,
   "id": "d4f4dd94-3337-42bf-9b6a-e9700bc549db",
   "metadata": {},
   "outputs": [],
   "source": [
    "for col in train_columns:\n",
    "    if col not in test.columns:\n",
    "        test[col] = 0.0"
   ]
  },
  {
   "cell_type": "code",
   "execution_count": 134,
   "id": "3160e8d8-253d-41bf-82e3-4b1f6a5342b6",
   "metadata": {},
   "outputs": [],
   "source": [
    "test = test[train_columns]"
   ]
  },
  {
   "cell_type": "markdown",
   "id": "6ab12d5f-9c21-4e1e-9efd-2951c02cec39",
   "metadata": {},
   "source": [
    "#### Aplicando"
   ]
  },
  {
   "cell_type": "code",
   "execution_count": 135,
   "id": "4ad101f6-f695-41ed-8ff3-66969d974299",
   "metadata": {},
   "outputs": [],
   "source": [
    "y_predict = gb_reg.predict(test)"
   ]
  },
  {
   "cell_type": "code",
   "execution_count": 136,
   "id": "17785de4-9e96-4da1-9c86-32b792f04b54",
   "metadata": {},
   "outputs": [],
   "source": [
    "test.loc[:,'SalePrice'] = y_predict"
   ]
  },
  {
   "cell_type": "code",
   "execution_count": 137,
   "id": "dafd0553-36e5-4a4c-b80d-a0db11d3cbdb",
   "metadata": {},
   "outputs": [
    {
     "data": {
      "text/html": [
       "<div>\n",
       "<style scoped>\n",
       "    .dataframe tbody tr th:only-of-type {\n",
       "        vertical-align: middle;\n",
       "    }\n",
       "\n",
       "    .dataframe tbody tr th {\n",
       "        vertical-align: top;\n",
       "    }\n",
       "\n",
       "    .dataframe thead th {\n",
       "        text-align: right;\n",
       "    }\n",
       "</style>\n",
       "<table border=\"1\" class=\"dataframe\">\n",
       "  <thead>\n",
       "    <tr style=\"text-align: right;\">\n",
       "      <th></th>\n",
       "      <th>Id</th>\n",
       "      <th>SalePrice</th>\n",
       "    </tr>\n",
       "  </thead>\n",
       "  <tbody>\n",
       "    <tr>\n",
       "      <th>0</th>\n",
       "      <td>1461</td>\n",
       "      <td>129014.332103</td>\n",
       "    </tr>\n",
       "    <tr>\n",
       "      <th>1</th>\n",
       "      <td>1462</td>\n",
       "      <td>154055.005799</td>\n",
       "    </tr>\n",
       "    <tr>\n",
       "      <th>2</th>\n",
       "      <td>1463</td>\n",
       "      <td>191887.770315</td>\n",
       "    </tr>\n",
       "  </tbody>\n",
       "</table>\n",
       "</div>"
      ],
      "text/plain": [
       "     Id      SalePrice\n",
       "0  1461  129014.332103\n",
       "1  1462  154055.005799\n",
       "2  1463  191887.770315"
      ]
     },
     "execution_count": 137,
     "metadata": {},
     "output_type": "execute_result"
    }
   ],
   "source": [
    "results = test[['Id', 'SalePrice']]\n",
    "results.head(3)"
   ]
  },
  {
   "cell_type": "code",
   "execution_count": 138,
   "id": "d9df996b-4c4a-4bf4-bd46-01d03aa26cd1",
   "metadata": {},
   "outputs": [],
   "source": [
    "results.to_csv('results_ohe.csv', index=False)"
   ]
  },
  {
   "cell_type": "code",
   "execution_count": null,
   "id": "8f4c5e28-85c3-4c1a-89b5-345d952f355d",
   "metadata": {},
   "outputs": [],
   "source": []
  }
 ],
 "metadata": {
  "kernelspec": {
   "display_name": "Python 3 (ipykernel)",
   "language": "python",
   "name": "python3"
  },
  "language_info": {
   "codemirror_mode": {
    "name": "ipython",
    "version": 3
   },
   "file_extension": ".py",
   "mimetype": "text/x-python",
   "name": "python",
   "nbconvert_exporter": "python",
   "pygments_lexer": "ipython3",
   "version": "3.12.3"
  }
 },
 "nbformat": 4,
 "nbformat_minor": 5
}
